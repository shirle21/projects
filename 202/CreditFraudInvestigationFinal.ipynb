{
 "cells": [
  {
   "cell_type": "markdown",
   "id": "80d84f33",
   "metadata": {},
   "source": [
    "#### CMSE 202 Final Project - Fraudulent Credit Transactions Detection\n",
    "### &#9989; Alice Shirley, Isaac Langerman, Khang Nguyen, Cale Mitchell\n",
    "### &#9989; Section_001 - Dr. Yang\n",
    "#### &#9989; 04/09/2024\n",
    "[Our Final Project 'Fraud-Detect-Final' Repository](https://github.com/shirle21/Fraud-Detect-Final.git)"
   ]
  },
  {
   "cell_type": "markdown",
   "id": "d48270fa",
   "metadata": {},
   "source": [
    "## Reasearch Question: \n",
    "\n",
    "# What is the best model to detect Credit Fraud using existing datasets?"
   ]
  },
  {
   "cell_type": "markdown",
   "id": "d9dfb89f",
   "metadata": {},
   "source": [
    "##  **Abstract**\n"
   ]
  },
  {
   "cell_type": "markdown",
   "id": "ffb7922c",
   "metadata": {},
   "source": [
    "Credit fraud is a form of identity theft in which the victim’s credit card is used for unauthorized transactions, presenting a considerable menace to both consumers and financial institutions. In 2019, the Federal Trade Commission (FTC) reported over 270,000 cases of new or existing account fraud in the United States alone [1], with an estimated 151 million Americans affected annually [2]. In this project, we investigated and implemented different machine learning methods to answer the question: “What model is the best at detecting fraudulent transactions?”. We will use scikit-learn, statsmodels machine-learning library, seaborn, pandas, numpy, and matplotlib. The data was collected during a research collaboration of Worldline and ULB (Université Libre de Bruxelles) [3]. In this project, four machine learning models are employed: Logistic Regression, Principal Component Analysis (PCA), Naive Bayes Classifier, and Random Forest.\n",
    "\n",
    "First, Logistic Regression, a method for binary classification purposes, is used to examine patterns and model the probability of a specific outcome in credit card transactions. For this model, the methodology was as follows: Import necessary items, complete three tests, find the best model from those tests, and compare/contrast tests to find the effectiveness of this model. The three tests were 1. Class vs All features, 2. Class vs Statistically Significant Features, and 3. Class vs Amount. Through this, I found Test 2 was the best as it has the greatest accuracy score (.992) and the greatest percentage of correctly identified fraudulent transactions (63.5%). However, this is not a very high percentage. Another drawback of this model was that accuracy was not a good metric. While Test 3 had an accuracy score of .998, it did not classify any of the fraudulent values correctly. Overall, using a log-reg model in the real world to identify fraudulent transactions is not very effective, and therefore this model presents itself as the weakest of the models we trained and tested. \n",
    "\n",
    "Second, Principal Component Analysis is used to transform high-dimensional credit transaction data into a lower-dimensional space. In this analysis, we utilized three rounds of PCA all run on the same data set. After three rounds of PCA and filtering out outliers with varying thresholds, we found around 600 very potentially fraudulent results. The credit cards that are screened out during the second round (around 4,000) will be shut down while the cardholder is notified. The credit cards that are screened out during the third round (606) will be even more urgently shut down and notified. In scenarios as serious as credit card transactions I believe that it is best to air on the side of caution. By stopping and notifying cardholders in both rounds we ensure that there is a very small probability that fraudulent cases get through. I know we are airing on the side of caution because there are only around 490 frauds out of 284,807 transactions. This gives us an accuracy rating in the third round of around 81.1%.  \n",
    "\n",
    "Third, Naive Bayes Classifier, a probabilistic algorithm based on Bayes' theorem, classifies credit card transactions as either legitimate or fraudulent. The Naive Bayes classifier works by comparing the conditional probabilities of A and B, in our case fraud or not fraud, to the probability of A. By doing this it assumes that each class could be responsible for predicting fraud.  The model has an accuracy of around .97 and correctly identifies about 90% of all actual fraudulent transactions.\n",
    "\n",
    "\n",
    "Lastly, Random Forest, an ensemble learning method based on decision trees, is robust for detecting credit fraud by aggregating predictions from multiple decision trees to reduce overfitting and improve accuracy. The model achieved an accuracy of 99.96%, indicating its effectiveness in classifying transactions. It captured 82.35% of fraudulent transactions and correctly identified fraud 92.56% of the time.\n",
    "\n",
    "In conclusion, the random forest model has the strongest performance due to its high accuracy, robustness to overfitting, and ability to handle large and complex datasets. Our study underscores the importance of employing machine-learning techniques for effective credit fraud detection, safeguarding consumers, preserving trust in financial systems. All the notebook and data will be uploaded to the GitHub directory: https://github.com/shirle21/Fraud-Detect-Final. \n"
   ]
  },
  {
   "cell_type": "markdown",
   "id": "6f75357a-0880-41f7-8de0-4cefeb05edae",
   "metadata": {},
   "source": [
    "## **Background and Motivation**"
   ]
  },
  {
   "cell_type": "markdown",
   "id": "5dc8a11c-48cb-4c03-8a8e-ded068d13603",
   "metadata": {},
   "source": [
    "- Credit fraud is a type of identity theft, where the perpetrator borrows money/purchases goods with the use of someone else’s credit details \n",
    "- According to the FTC, more than 270,000 Americans reported new or existing account fraud in 2019 [1].\n",
    "- It is estimated that 151 million Americans are affected by Credit Fraud each year [2].\n",
    "- Being able to detect Credit Fraud is important because credit card companies should be able recognize fraudulent credit card transactions so clients can be refunded.\n",
    "- There are many different ways to detect fraudulent credit transactions. The four we choose to investigate are Logistic Regression, PCA, Naive Bayes Classifier, and Random Forrest.\n",
    "- From these four, we will determine what model is most useful."
   ]
  },
  {
   "cell_type": "markdown",
   "id": "b64c3e4f-0a15-4809-aa6f-5a47c99999cf",
   "metadata": {},
   "source": [
    "## **Methodology**"
   ]
  },
  {
   "cell_type": "markdown",
   "id": "268eb4b2-48d6-4736-8edb-c06ba5db504c",
   "metadata": {},
   "source": [
    "### General Methodology\n",
    "1. Find a dataset to use across four models to detect credit fraud\n",
    "2. Clean the dataset for each specific models needs\n",
    "3. Use supervised machine learning with PCA (Principal component analysis), Random Forest, Naive Bayes Classifier, and Logistic Regression\n",
    "4. Compare/contrast the results to determine which model is the best\n",
    "\n",
    "\n",
    "\n"
   ]
  },
  {
   "cell_type": "markdown",
   "id": "ef11e25e-8e5f-4239-93b6-0c5efe78c8aa",
   "metadata": {},
   "source": [
    "### Dataset"
   ]
  },
  {
   "cell_type": "markdown",
   "id": "507aedec-14b1-4f91-bca6-12aa53a6faef",
   "metadata": {},
   "source": [
    "The data was collected during a research collaboration of Worldline and ULB (Université Libre de Bruxelles) on big data mining and fraud detection [3]. These are the characteristics of the dataset:\n",
    "- Collected during a research collaboration of Worldline and ULB (Université Libre de Bruxelles) on big data mining and fraud detection.\n",
    "- 284,807 transactions from a period of 2 days\n",
    "- Columns are numeric input variables  from a PCA transformation.\n",
    "- V1 - V28 are components obtained with PCA\n",
    "- Amount is the transaction Amount,\n",
    "- Time'is the seconds between each transaction and the first transaction in the dataset.\n",
    "- Class is a boolean value where 1 indicates fraud and 0 indicates no fraud\n",
    "\n"
   ]
  },
  {
   "cell_type": "markdown",
   "id": "6e12a93e",
   "metadata": {},
   "source": [
    "To analyze and preprocess the data, the seaborn, pandas, and matplotlib libraries were used. For modeling, machine learning scikit-learn library and statsmodels library were used. The data representation and visualization are graphed in different sections in this project.\n",
    "\n",
    "Import necessary libraries:"
   ]
  },
  {
   "cell_type": "code",
   "execution_count": 51,
   "id": "bc6efd68",
   "metadata": {},
   "outputs": [],
   "source": [
    "import matplotlib.pyplot as plt\n",
    "import numpy as np\n",
    "from sklearn.model_selection import train_test_split\n",
    "import statsmodels.api as sm\n",
    "from sklearn import metrics\n",
    "import pandas as pd\n",
    "import seaborn as sns \n",
    "from sklearn.metrics import accuracy_score\n",
    "import scikitplot as skplt\n",
    "from sklearn.metrics import confusion_matrix\n",
    "from sklearn.ensemble import RandomForestClassifier\n",
    "from sklearn.metrics import accuracy_score,recall_score,precision_score,f1_score, auc,roc_auc_score\n",
    "from sklearn.model_selection import GridSearchCV\n",
    "from sklearn.metrics import classification_report\n",
    "from sklearn.svm import SVC\n",
    "from sklearn.datasets import load_digits\n",
    "from sklearn.datasets import fetch_lfw_people\n",
    "import time\n",
    "from sklearn.datasets import make_circles\n",
    "from mpl_toolkits.mplot3d import Axes3D\n",
    "from sklearn.preprocessing import StandardScaler\n",
    "from sklearn.decomposition import PCA\n",
    "import matplotlib.gridspec as gridspec\n",
    "import math\n",
    "import random\n",
    "from sklearn.naive_bayes import GaussianNB\n",
    "from sklearn.linear_model import LogisticRegression\n"
   ]
  },
  {
   "cell_type": "markdown",
   "id": "29011d44",
   "metadata": {},
   "source": [
    "### Dataset Exploration "
   ]
  },
  {
   "cell_type": "code",
   "execution_count": 9,
   "id": "0b4dcccd-305d-4bdb-82b7-c6ac6bb0b019",
   "metadata": {},
   "outputs": [
    {
     "name": "stdout",
     "output_type": "stream",
     "text": [
      "Non-Fraudulent Entries: 99.82725143693798 %\n",
      "Fraudulent Entries: 0.1727485630620034 %\n"
     ]
    }
   ],
   "source": [
    "#loading in dataset - **note - too big to upload to github**\n",
    "df1 = pd.read_csv('creditfraud1.csv')\n",
    "\n",
    "#Amount of non-fraud and fraud entries in dataframe\n",
    "mask0, mask1 = (df1['Class'] == 0), (df1['Class'] == 1)\n",
    "print('Non-Fraudulent Entries:', len(df1[mask0]['Class'])/len(df1['Class']) * 100, '%')\n",
    "print('Fraudulent Entries:', len(df1[mask1]['Class'])/len(df1['Class']) * 100, '%')"
   ]
  },
  {
   "cell_type": "code",
   "execution_count": 10,
   "id": "d4f1a98e",
   "metadata": {},
   "outputs": [
    {
     "data": {
      "text/plain": [
       "Index(['Time', 'V1', 'V2', 'V3', 'V4', 'V5', 'V6', 'V7', 'V8', 'V9', 'V10',\n",
       "       'V11', 'V12', 'V13', 'V14', 'V15', 'V16', 'V17', 'V18', 'V19', 'V20',\n",
       "       'V21', 'V22', 'V23', 'V24', 'V25', 'V26', 'V27', 'V28', 'Amount',\n",
       "       'Class'],\n",
       "      dtype='object')"
      ]
     },
     "execution_count": 10,
     "metadata": {},
     "output_type": "execute_result"
    }
   ],
   "source": [
    "df1.columns"
   ]
  },
  {
   "cell_type": "code",
   "execution_count": 5,
   "id": "44b150b4-91a2-40ab-bf2a-8adc29f44f43",
   "metadata": {},
   "outputs": [
    {
     "data": {
      "text/plain": [
       "Text(0, 0.5, 'Count')"
      ]
     },
     "execution_count": 5,
     "metadata": {},
     "output_type": "execute_result"
    },
    {
     "data": {
      "image/png": "[encoded data removed]",
      "text/plain": [
       "<Figure size 432x288 with 1 Axes>"
      ]
     },
     "metadata": {
      "needs_background": "light"
     },
     "output_type": "display_data"
    }
   ],
   "source": [
    "\n",
    "#bar plot for fraud vs no fraud data\n",
    "sns.barplot(x=df1['Class'].value_counts().index, y=df1['Class'].value_counts(), hue=df1['Class'].value_counts().index, palette=['green', 'orange'])\n",
    "plt.title('Dataset 1: Fraud vs Non-Fraud')\n",
    "plt.xlabel('0: Non-Fraud   1: Fraud')\n",
    "plt.ylabel('Count')"
   ]
  },
  {
   "cell_type": "markdown",
   "id": "87b12f9b",
   "metadata": {},
   "source": [
    "We can see the low occurrence of fraud compared to legitimate transactions in the dataset. Credit card fraud is a relatively rare event, with only a small fraction of transactions being flagged as fraudulent, posing difficulty in developing model and algorithms to detect the credit card fraud. We have to come up with appropriate models to analyze various features associated with each transaction and identify patterns indicative of fraudulent activity. "
   ]
  },
  {
   "cell_type": "code",
   "execution_count": 11,
   "id": "cdc20a67",
   "metadata": {},
   "outputs": [
    {
     "data": {
      "text/html": [
       "<div>\n",
       "<style scoped>\n",
       "    .dataframe tbody tr th:only-of-type {\n",
       "        vertical-align: middle;\n",
       "    }\n",
       "\n",
       "    .dataframe tbody tr th {\n",
       "        vertical-align: top;\n",
       "    }\n",
       "\n",
       "    .dataframe thead th {\n",
       "        text-align: right;\n",
       "    }\n",
       "</style>\n",
       "<table border=\"1\" class=\"dataframe\">\n",
       "  <thead>\n",
       "    <tr style=\"text-align: right;\">\n",
       "      <th></th>\n",
       "      <th>null ratio</th>\n",
       "    </tr>\n",
       "  </thead>\n",
       "  <tbody>\n",
       "    <tr>\n",
       "      <th>Time</th>\n",
       "      <td>0.0</td>\n",
       "    </tr>\n",
       "    <tr>\n",
       "      <th>V1</th>\n",
       "      <td>0.0</td>\n",
       "    </tr>\n",
       "    <tr>\n",
       "      <th>V2</th>\n",
       "      <td>0.0</td>\n",
       "    </tr>\n",
       "    <tr>\n",
       "      <th>V3</th>\n",
       "      <td>0.0</td>\n",
       "    </tr>\n",
       "    <tr>\n",
       "      <th>V4</th>\n",
       "      <td>0.0</td>\n",
       "    </tr>\n",
       "    <tr>\n",
       "      <th>V5</th>\n",
       "      <td>0.0</td>\n",
       "    </tr>\n",
       "    <tr>\n",
       "      <th>V6</th>\n",
       "      <td>0.0</td>\n",
       "    </tr>\n",
       "    <tr>\n",
       "      <th>V7</th>\n",
       "      <td>0.0</td>\n",
       "    </tr>\n",
       "    <tr>\n",
       "      <th>V8</th>\n",
       "      <td>0.0</td>\n",
       "    </tr>\n",
       "    <tr>\n",
       "      <th>V9</th>\n",
       "      <td>0.0</td>\n",
       "    </tr>\n",
       "    <tr>\n",
       "      <th>V10</th>\n",
       "      <td>0.0</td>\n",
       "    </tr>\n",
       "    <tr>\n",
       "      <th>V11</th>\n",
       "      <td>0.0</td>\n",
       "    </tr>\n",
       "    <tr>\n",
       "      <th>V12</th>\n",
       "      <td>0.0</td>\n",
       "    </tr>\n",
       "    <tr>\n",
       "      <th>V13</th>\n",
       "      <td>0.0</td>\n",
       "    </tr>\n",
       "    <tr>\n",
       "      <th>V14</th>\n",
       "      <td>0.0</td>\n",
       "    </tr>\n",
       "    <tr>\n",
       "      <th>V15</th>\n",
       "      <td>0.0</td>\n",
       "    </tr>\n",
       "    <tr>\n",
       "      <th>V16</th>\n",
       "      <td>0.0</td>\n",
       "    </tr>\n",
       "    <tr>\n",
       "      <th>V17</th>\n",
       "      <td>0.0</td>\n",
       "    </tr>\n",
       "    <tr>\n",
       "      <th>V18</th>\n",
       "      <td>0.0</td>\n",
       "    </tr>\n",
       "    <tr>\n",
       "      <th>V19</th>\n",
       "      <td>0.0</td>\n",
       "    </tr>\n",
       "    <tr>\n",
       "      <th>V20</th>\n",
       "      <td>0.0</td>\n",
       "    </tr>\n",
       "    <tr>\n",
       "      <th>V21</th>\n",
       "      <td>0.0</td>\n",
       "    </tr>\n",
       "    <tr>\n",
       "      <th>V22</th>\n",
       "      <td>0.0</td>\n",
       "    </tr>\n",
       "    <tr>\n",
       "      <th>V23</th>\n",
       "      <td>0.0</td>\n",
       "    </tr>\n",
       "    <tr>\n",
       "      <th>V24</th>\n",
       "      <td>0.0</td>\n",
       "    </tr>\n",
       "    <tr>\n",
       "      <th>V25</th>\n",
       "      <td>0.0</td>\n",
       "    </tr>\n",
       "    <tr>\n",
       "      <th>V26</th>\n",
       "      <td>0.0</td>\n",
       "    </tr>\n",
       "    <tr>\n",
       "      <th>V27</th>\n",
       "      <td>0.0</td>\n",
       "    </tr>\n",
       "    <tr>\n",
       "      <th>V28</th>\n",
       "      <td>0.0</td>\n",
       "    </tr>\n",
       "    <tr>\n",
       "      <th>Amount</th>\n",
       "      <td>0.0</td>\n",
       "    </tr>\n",
       "    <tr>\n",
       "      <th>Class</th>\n",
       "      <td>0.0</td>\n",
       "    </tr>\n",
       "  </tbody>\n",
       "</table>\n",
       "</div>"
      ],
      "text/plain": [
       "        null ratio\n",
       "Time           0.0\n",
       "V1             0.0\n",
       "V2             0.0\n",
       "V3             0.0\n",
       "V4             0.0\n",
       "V5             0.0\n",
       "V6             0.0\n",
       "V7             0.0\n",
       "V8             0.0\n",
       "V9             0.0\n",
       "V10            0.0\n",
       "V11            0.0\n",
       "V12            0.0\n",
       "V13            0.0\n",
       "V14            0.0\n",
       "V15            0.0\n",
       "V16            0.0\n",
       "V17            0.0\n",
       "V18            0.0\n",
       "V19            0.0\n",
       "V20            0.0\n",
       "V21            0.0\n",
       "V22            0.0\n",
       "V23            0.0\n",
       "V24            0.0\n",
       "V25            0.0\n",
       "V26            0.0\n",
       "V27            0.0\n",
       "V28            0.0\n",
       "Amount         0.0\n",
       "Class          0.0"
      ]
     },
     "execution_count": 11,
     "metadata": {},
     "output_type": "execute_result"
    }
   ],
   "source": [
    "null_table = pd.DataFrame(df1.isnull().sum()/len(df1)*100, index=df1.columns, columns=[\"null ratio\"])\n",
    "null_table"
   ]
  },
  {
   "cell_type": "markdown",
   "id": "4a837bcb",
   "metadata": {},
   "source": [
    "There is no null value in the dataset"
   ]
  },
  {
   "cell_type": "code",
   "execution_count": 85,
   "id": "105512e9-756a-40dc-a84c-f5070ffa5090",
   "metadata": {},
   "outputs": [
    {
     "name": "stdout",
     "output_type": "stream",
     "text": [
      "median amount - no fraud: 22.0\n",
      "median amount - fraud: 9.25\n"
     ]
    },
    {
     "data": {
      "image/png": "[encoded data removed]",
      "text/plain": [
       "<Figure size 1400x600 with 2 Axes>"
      ]
     },
     "metadata": {},
     "output_type": "display_data"
    }
   ],
   "source": [
    "#amount of transactions for fraudulent and non-fraudulent data - histograms\n",
    "df1_nofraud = df1[mask0]\n",
    "df1_fraud = df1[mask1]\n",
    "\n",
    "#making subplots\n",
    "fig, axes = plt.subplots(nrows=1, ncols=2, figsize=(14,6))\n",
    "\n",
    "#plot 1 \n",
    "sns.histplot(data=df1_nofraud['Amount'], ax=axes[0])\n",
    "axes[0].axvline(x=np.median(df1_nofraud['Amount']), color='r', linestyle='-', label='Median')\n",
    "axes[0].set_ylim(0, 7000)\n",
    "axes[0].set_xlim(-100, 2000)\n",
    "axes[0].set_title('Transaction Amount - No Fraud')\n",
    "axes[0].legend()\n",
    "\n",
    "#plot 2 \n",
    "sns.histplot(data = df1_fraud['Amount'], ax=axes[1])\n",
    "axes[1].axvline(x= np.median(df1_fraud['Amount']), color='r', linestyle='-')\n",
    "axes[1].set_title('Transaction Amount - Fraud')\n",
    "axes[1].legend(['median','data'])\n",
    "\n",
    "print( 'median amount - no fraud:',np.median(df1_nofraud['Amount'])) \n",
    "print('median amount - fraud:', np.median(df1_fraud['Amount']))"
   ]
  },
  {
   "cell_type": "markdown",
   "id": "e3f9692c-3f2f-4dcb-b4be-92a1353f4fec",
   "metadata": {},
   "source": [
    "### Exploring Different Models"
   ]
  },
  {
   "cell_type": "markdown",
   "id": "9d579c50-0d18-4eb8-b9b6-827bcecba5c9",
   "metadata": {},
   "source": [
    "### Model 1: Logistic Regression"
   ]
  },
  {
   "cell_type": "markdown",
   "id": "bbe54341-ffb1-48cc-82b2-b539ee6a9894",
   "metadata": {},
   "source": [
    "**Log-Reg Methodology**\n",
    "- Import necessary items\n",
    "- Test 1 : Model Class(Fraud/Non Fraud) vs all other columns in dataset\n",
    "- Test 2 : Model Class(Fraud/Non Fraud) vs statistically significant figures\n",
    "- Test 3 : Model Class(Fraud/Non Fraud) vs Amount variable\n",
    "- For every Test\n",
    "    - get train/test vectors, train/test labels with train_test_split\n",
    "    - set test size to 25% and train to 75%\n",
    "    - add constant to train vectors to create a logistic regression model using train labels and train vector w/constant\n",
    "    - fit/display result\n",
    "    - create confusion matrix [4] and find accuracy score\n",
    "- compare/contrast tests"
   ]
  },
  {
   "cell_type": "markdown",
   "id": "1b07c0a2-2f64-4681-85f4-5b60bc3bdfec",
   "metadata": {},
   "source": [
    "**Test 1**"
   ]
  },
  {
   "cell_type": "code",
   "execution_count": 12,
   "id": "2c9fdbb3-f937-46e3-ac3f-99738640036c",
   "metadata": {},
   "outputs": [
    {
     "name": "stdout",
     "output_type": "stream",
     "text": [
      "              V1        V2        V3        V4        V5        V6        V7  \\\n",
      "179408 -0.023098 -0.277699  1.102604 -2.404118 -0.186916 -0.131538  0.393982   \n",
      "139441 -3.518689  1.646880 -0.170915  0.458687 -0.909157 -0.452655 -0.367538   \n",
      "59040  -0.827631  0.912940 -0.931890 -1.124057  2.350587  3.159441  0.198638   \n",
      "239834  2.052440 -1.197022 -0.437060 -0.826165 -1.335505 -0.531289 -1.147997   \n",
      "221163 -0.235159  1.418903  2.187732  4.122313  0.510417  1.524460  0.351446   \n",
      "...          ...       ...       ...       ...       ...       ...       ...   \n",
      "38907  -0.768732  0.592259  2.369237 -0.258853 -0.000550 -0.139938  0.299079   \n",
      "245467 -0.964567 -1.326544 -3.830999 -2.045509  3.272394  2.262320  0.493959   \n",
      "253975  2.001432 -0.036124 -1.030628  1.159043  0.136617 -0.225799 -0.124444   \n",
      "62595  -2.092124 -1.562969  0.654046 -1.175726  0.085437 -1.468131 -0.060539   \n",
      "178213 -1.706473 -1.093522  0.791006 -1.279838 -0.625280  0.742613  0.275888   \n",
      "\n",
      "              V8        V9       V10  ...       V20       V21       V22  \\\n",
      "179408 -0.161622 -0.802471  0.150340  ...  0.181412  0.092774  0.272606   \n",
      "139441  1.254963 -0.663083 -0.046480  ... -0.777920  0.279568  0.527403   \n",
      "59040   1.226972 -0.887412 -0.462239  ...  0.221919  0.029774 -0.184634   \n",
      "239834  0.072494  0.062988  0.928409  ... -0.060137  0.387280  1.055715   \n",
      "221163 -0.018783 -1.264979  2.415420  ...  0.630835  0.142171  1.126599   \n",
      "...          ...       ...       ...  ...       ...       ...       ...   \n",
      "38907   0.116447 -0.128252 -0.021704  ...  0.199008 -0.107132 -0.217122   \n",
      "245467  0.912871 -1.833494  0.428304  ...  0.182602  0.353276  0.790547   \n",
      "253975 -0.071667  0.406109  0.424351  ... -0.246988  0.422440  1.462377   \n",
      "62595   0.271392 -1.668090 -0.338559  ...  0.282938 -0.215343 -1.209124   \n",
      "178213  0.582186 -1.694624 -0.435813  ...  1.063084  0.092924 -0.666542   \n",
      "\n",
      "             V23       V24       V25       V26       V27       V28  Amount  \n",
      "179408  0.154443 -0.522008 -1.047988 -0.732721  0.031605 -0.009215   65.00  \n",
      "139441 -0.215025  0.010683  0.662450 -0.336914 -2.008731 -0.821209   20.00  \n",
      "59040  -0.044742  1.025519  0.089295  0.315135  0.178960  0.113521   52.48  \n",
      "239834  0.132667  0.021835 -0.260548 -0.105919 -0.003487 -0.055848   39.00  \n",
      "221163 -0.359285 -0.436795 -0.384812  0.490688  0.244527 -0.159544    3.60  \n",
      "...          ...       ...       ...       ...       ...       ...     ...  \n",
      "38907  -0.246579 -0.038932  0.081534  0.243674  0.094016 -0.100641    5.99  \n",
      "245467  0.545404  0.756129 -1.206098  0.675786  0.354235  0.138492  198.00  \n",
      "253975 -0.173324 -0.446033  0.451611 -0.234999  0.022408 -0.065185    0.00  \n",
      "62595   0.433268  0.029619 -0.362945  0.627257 -0.119482 -0.186463  180.00  \n",
      "178213  0.504391  0.165062  0.430700 -0.346207 -0.158565 -0.091939  305.97  \n",
      "\n",
      "[213605 rows x 29 columns]\n",
      "              V1        V2        V3        V4        V5        V6        V7  \\\n",
      "246028 -1.242002  2.182251 -3.298287 -0.384039  0.606816 -0.357087  0.914897   \n",
      "31724   1.188152 -0.606364  0.113423 -0.298454 -0.972371 -0.789049 -0.481048   \n",
      "229063  1.997421  0.095782 -2.956757  0.293131  2.788212  3.262586 -0.388571   \n",
      "195394  2.154782 -1.072781 -0.972600 -1.261782 -0.385850  0.520792 -1.090746   \n",
      "278623 -0.482944  1.483170  0.459977  4.428448  0.341556  1.136528  0.321929   \n",
      "...          ...       ...       ...       ...       ...       ...       ...   \n",
      "3093    1.034531 -0.570049  0.664283  0.800296 -0.874872  0.155036 -0.496645   \n",
      "181066  0.001790  1.149224  1.583192  3.182555  0.257314  0.403641  0.380869   \n",
      "225532 -1.038518  0.628048 -0.546817  0.024016  2.608260 -0.634020  1.340364   \n",
      "2452   -0.474918  0.683819  1.573334  0.412936  0.373810  0.268844  0.435773   \n",
      "17226   1.165972 -0.144833 -0.097223  1.736661  1.698404  4.646759 -1.189485   \n",
      "\n",
      "              V8        V9       V10  ...       V20       V21       V22  \\\n",
      "246028 -2.398360 -0.095032  0.240612  ... -0.727724  2.714342  1.033683   \n",
      "31724  -0.062688 -0.565668  0.065629  ...  0.147556  0.003156 -0.121326   \n",
      "229063  0.796747  0.117159 -0.167586  ... -0.152432  0.107922  0.323267   \n",
      "195394  0.162615 -0.125631  0.860486  ...  0.101968 -0.056076 -0.267896   \n",
      "278623  0.650466 -2.060515  1.510760  ...  0.315830  0.256932  0.813155   \n",
      "...          ...       ...       ...  ...       ...       ...       ...   \n",
      "3093    0.240320  0.977472 -0.140265  ... -0.052566 -0.087584 -0.198502   \n",
      "181066  0.112976 -1.097056  0.851338  ... -0.138909  0.414087  1.336115   \n",
      "225532 -0.045328 -1.050243 -1.213592  ...  0.145945  0.137380  0.179247   \n",
      "2452    0.142404 -0.220885 -0.549737  ...  0.045584 -0.149101 -0.263171   \n",
      "17226   1.205305  0.333703  0.445184  ... -0.064066 -0.032082  0.113416   \n",
      "\n",
      "             V23       V24       V25       V26       V27       V28  Amount  \n",
      "246028  0.093098  0.343514 -0.870513 -0.415083  0.444728  0.010140  130.61  \n",
      "31724   0.005218  0.325198  0.314098 -0.297323  0.021777  0.048766   81.40  \n",
      "229063  0.089393  0.585585  0.216996 -0.511154  0.045057 -0.025994    4.13  \n",
      "195394  0.245879 -0.436388 -0.364773 -0.471215 -0.001935 -0.049896   37.00  \n",
      "278623 -0.041261 -0.536655 -0.455171  0.498337  0.330738  0.182502   69.00  \n",
      "...          ...       ...       ...       ...       ...       ...     ...  \n",
      "3093   -0.162915  0.033819  0.444565  0.528263 -0.033729  0.009365   82.18  \n",
      "181066  0.033271  0.056373 -1.280818 -0.046775  0.304645  0.288954   14.64  \n",
      "225532 -0.280800  0.098198  0.734902 -0.605272  0.059896  0.159339   52.68  \n",
      "2452   -0.197871 -0.432834 -0.021431  0.412324  0.086073  0.094235    7.95  \n",
      "17226  -0.165203  1.045671  0.774785  0.228583  0.050559  0.020283    1.52  \n",
      "\n",
      "[71202 rows x 29 columns]\n",
      "179408    0\n",
      "139441    0\n",
      "59040     0\n",
      "239834    0\n",
      "221163    0\n",
      "         ..\n",
      "38907     0\n",
      "245467    0\n",
      "253975    0\n",
      "62595     0\n",
      "178213    0\n",
      "Name: Class, Length: 213605, dtype: int64\n",
      "246028    0\n",
      "31724     0\n",
      "229063    0\n",
      "195394    0\n",
      "278623    0\n",
      "         ..\n",
      "3093      0\n",
      "181066    0\n",
      "225532    0\n",
      "2452      0\n",
      "17226     0\n",
      "Name: Class, Length: 71202, dtype: int64\n"
     ]
    }
   ],
   "source": [
    "#logistic regression model 1 \n",
    "#class vs all factors \n",
    "classdf1= df1['Class']\n",
    "#features = df1[feature names]\n",
    "features = df1[df1.iloc[:, 1:30].columns]\n",
    "\n",
    "#getting train and testing vectors, train and test labels\n",
    "train_vectors, test_vectors, train_labels, test_labels = train_test_split(features,classdf1, test_size = 0.25, train_size =0.75)\n",
    "print(train_vectors)\n",
    "print(test_vectors)\n",
    "print(train_labels)\n",
    "print(test_labels)"
   ]
  },
  {
   "cell_type": "code",
   "execution_count": 13,
   "id": "77d3c402-e3c8-4d4a-946f-0d4ff1851e8e",
   "metadata": {
    "scrolled": true
   },
   "outputs": [
    {
     "name": "stdout",
     "output_type": "stream",
     "text": [
      "Optimization terminated successfully.\n",
      "         Current function value: 0.003775\n",
      "         Iterations 13\n",
      "                           Logit Regression Results                           \n",
      "==============================================================================\n",
      "Dep. Variable:                  Class   No. Observations:               213605\n",
      "Model:                          Logit   Df Residuals:                   213575\n",
      "Method:                           MLE   Df Model:                           29\n",
      "Date:                Tue, 09 Apr 2024   Pseudo R-squ.:                  0.6930\n",
      "Time:                        18:45:13   Log-Likelihood:                -806.45\n",
      "converged:                       True   LL-Null:                       -2626.6\n",
      "Covariance Type:            nonrobust   LLR p-value:                     0.000\n",
      "==============================================================================\n",
      "                 coef    std err          z      P>|z|      [0.025      0.975]\n",
      "------------------------------------------------------------------------------\n",
      "const         -8.6675      0.175    -49.591      0.000      -9.010      -8.325\n",
      "V1             0.0859      0.049      1.746      0.081      -0.011       0.182\n",
      "V2             0.0117      0.073      0.161      0.872      -0.131       0.155\n",
      "V3             0.0233      0.054      0.428      0.669      -0.083       0.130\n",
      "V4             0.6727      0.088      7.683      0.000       0.501       0.844\n",
      "V5             0.0891      0.080      1.121      0.262      -0.067       0.245\n",
      "V6            -0.1198      0.088     -1.366      0.172      -0.292       0.052\n",
      "V7            -0.0985      0.083     -1.184      0.236      -0.262       0.065\n",
      "V8            -0.1686      0.036     -4.704      0.000      -0.239      -0.098\n",
      "V9            -0.2313      0.126     -1.835      0.067      -0.478       0.016\n",
      "V10           -0.8183      0.110     -7.455      0.000      -1.033      -0.603\n",
      "V11            0.0215      0.089      0.240      0.810      -0.154       0.197\n",
      "V12            0.0087      0.102      0.085      0.932      -0.190       0.208\n",
      "V13           -0.2910      0.094     -3.088      0.002      -0.476      -0.106\n",
      "V14           -0.4696      0.072     -6.518      0.000      -0.611      -0.328\n",
      "V15           -0.0824      0.100     -0.823      0.410      -0.278       0.114\n",
      "V16           -0.2787      0.139     -2.000      0.045      -0.552      -0.006\n",
      "V17            0.0173      0.083      0.209      0.834      -0.145       0.180\n",
      "V18            0.0177      0.146      0.122      0.903      -0.268       0.303\n",
      "V19            0.0326      0.112      0.292      0.771      -0.187       0.252\n",
      "V20           -0.4690      0.100     -4.699      0.000      -0.665      -0.273\n",
      "V21            0.3232      0.067      4.850      0.000       0.193       0.454\n",
      "V22            0.4198      0.150      2.805      0.005       0.127       0.713\n",
      "V23           -0.0225      0.076     -0.296      0.767      -0.172       0.126\n",
      "V24            0.2055      0.177      1.162      0.245      -0.141       0.552\n",
      "V25           -0.0335      0.154     -0.217      0.828      -0.336       0.269\n",
      "V26            0.0606      0.221      0.274      0.784      -0.372       0.493\n",
      "V27           -0.8319      0.141     -5.906      0.000      -1.108      -0.556\n",
      "V28           -0.2445      0.098     -2.504      0.012      -0.436      -0.053\n",
      "Amount         0.0009      0.001      1.641      0.101      -0.000       0.002\n",
      "==============================================================================\n",
      "\n",
      "Possibly complete quasi-separation: A fraction 0.28 of observations can be\n",
      "perfectly predicted. This might indicate that there is complete\n",
      "quasi-separation. In this case some parameters will not be identified.\n"
     ]
    }
   ],
   "source": [
    "#making log reg model and printing result \n",
    "logit_model = sm.Logit(train_labels, sm.add_constant(train_vectors))\n",
    "result = logit_model.fit()\n",
    "print(result.summary())"
   ]
  },
  {
   "cell_type": "code",
   "execution_count": 14,
   "id": "68b2a7ad-5e98-43da-9317-920b812ca9b0",
   "metadata": {},
   "outputs": [
    {
     "name": "stdout",
     "output_type": "stream",
     "text": [
      "Predicted class labels for test data:\n",
      "246028    0\n",
      "31724     0\n",
      "229063    0\n",
      "195394    0\n",
      "278623    0\n",
      "         ..\n",
      "3093      0\n",
      "181066    0\n",
      "225532    0\n",
      "2452      0\n",
      "17226     0\n",
      "Length: 71202, dtype: int32\n"
     ]
    }
   ],
   "source": [
    "#finding and printing predicted labels \n",
    "predicted_probabilities = result.predict(sm.add_constant(test_vectors))\n",
    "predicted_labels = (predicted_probabilities > 0.5).astype(int)\n",
    "print(\"Predicted class labels for test data:\")\n",
    "print(predicted_labels)"
   ]
  },
  {
   "cell_type": "code",
   "execution_count": 15,
   "id": "a679c724-9030-41bf-a3ed-64ddb3cf15ec",
   "metadata": {},
   "outputs": [
    {
     "name": "stdout",
     "output_type": "stream",
     "text": [
      "Accuracy Score: 0.9990590151962023\n"
     ]
    },
    {
     "data": {
      "image/png": "[encoded data removed]",
      "text/plain": [
       "<Figure size 432x288 with 2 Axes>"
      ]
     },
     "metadata": {
      "needs_background": "light"
     },
     "output_type": "display_data"
    }
   ],
   "source": [
    "#getting accuracy and conf matrix \n",
    "#accurary score \n",
    "accuracy = accuracy_score(test_labels, predicted_labels)\n",
    "print(\"Accuracy Score:\", accuracy)\n",
    "\n",
    "#creating confusion matrix [4]\n",
    "skplt.metrics.plot_confusion_matrix(test_labels, predicted_labels)\n",
    "\n",
    "#creating second matrix to get TP/FP/TN/FN values \n",
    "conf_matrix = confusion_matrix(test_labels, predicted_labels)\n",
    "TP = conf_matrix[1, 1] \n",
    "FP = conf_matrix[0, 1] \n",
    "TN = conf_matrix[0, 0]  \n",
    "FN = conf_matrix[1, 0]  \n",
    "\n",
    "\n",
    "#Chat GPT 3.5 accessed 04/08/2024 : \n",
    "#prompt {'skplt.metrics.plot_confusion_matrix(test_labels, predicted_labels) how to access numbers in four quadrants of confusion matrix'}\n",
    "\n",
    "#Output: \n",
    "# import matplotlib.pyplot as plt\n",
    "# from sklearn.metrics import confusion_matrix\n",
    "# import scikitplot as skplt\n",
    "\n",
    "# Assuming test_labels and predicted_labels are your actual and predicted labels\n",
    "# skplt.metrics.plot_confusion_matrix(test_labels, predicted_labels)\n",
    "# plt.show()\n",
    "\n",
    "# Extracting confusion matrix data from the plot\n",
    "# cm = plt.gcf().get_children()[0].get_children()[1].get_children()[0].get_children()[1]._A\n",
    "\n",
    "# Accessing TP, FP, TN, FN\n",
    "# TP = cm[1, 1]  # True Positives\n",
    "# FP = cm[0, 1]  # False Positives\n",
    "# TN = cm[0, 0]  # True Negatives\n",
    "# FN = cm[1, 0]  # False Negatives\n",
    "\n",
    "# print(\"True Positives:\", TP)\n",
    "# print(\"False Positives:\", FP)\n",
    "# print(\"True Negatives:\", TN)\n",
    "# print(\"False Negatives:\", FN)\n"
   ]
  },
  {
   "cell_type": "code",
   "execution_count": 16,
   "id": "8b722122-ae9d-433b-aa05-822bc4da76d1",
   "metadata": {
    "scrolled": true
   },
   "outputs": [
    {
     "name": "stdout",
     "output_type": "stream",
     "text": [
      "99.98592837543094 % of Non Fraud Correctly Predicted\n",
      "0.014071624569056496 % of Non Fraud Incorrectly Predicted\n",
      "58.3941605839416 % of Fraud Correctly Predicted\n",
      "41.605839416058394 % of Fraud Incorrectly Predicted\n"
     ]
    }
   ],
   "source": [
    "#Results of model as percentages \n",
    "print(TN/(TN + FP) * 100, '% of Non Fraud Correctly Predicted')\n",
    "print(FP/(TN + FP) * 100, '% of Non Fraud Incorrectly Predicted')\n",
    "print(TP/(TP+FN) * 100, '% of Fraud Correctly Predicted')\n",
    "print(FN/(TP+FN) * 100, '% of Fraud Incorrectly Predicted')\n"
   ]
  },
  {
   "cell_type": "markdown",
   "id": "03b469d5-9e3f-4ae9-a9d4-5db71d37fccb",
   "metadata": {},
   "source": [
    "**Test 2**"
   ]
  },
  {
   "cell_type": "code",
   "execution_count": 17,
   "id": "c5e09882-a1c2-487c-bc0d-c6613e586f2d",
   "metadata": {},
   "outputs": [],
   "source": [
    "#logistic regression model 2  - feature reduction  \n",
    "#taking statistically significant v columns if test 1 \n",
    "\n",
    "#V1,V4,V8,V10,V13,V14,V20,V21,V22,V26,V27,V28 are statistically significant\n",
    "classdf1= df1['Class']\n",
    "features2 = df1[['V4','V5','V8', 'V10', 'V13', 'V14','V20', 'V21', 'V22', 'V23', 'V27', 'V28', 'Amount']]\n",
    "\n",
    "#getting train and testing vectors, train and test labels\n",
    "train_vectors2, test_vectors2, train_labels2, test_labels2 = train_test_split(features2,classdf1, test_size = 0.25, train_size =0.75)\n"
   ]
  },
  {
   "cell_type": "code",
   "execution_count": 18,
   "id": "06df8159-6d67-45b1-b3b2-69136c0ebd59",
   "metadata": {},
   "outputs": [
    {
     "name": "stdout",
     "output_type": "stream",
     "text": [
      "Optimization terminated successfully.\n",
      "         Current function value: 0.003653\n",
      "         Iterations 13\n",
      "                           Logit Regression Results                           \n",
      "==============================================================================\n",
      "Dep. Variable:                  Class   No. Observations:               213605\n",
      "Model:                          Logit   Df Residuals:                   213591\n",
      "Method:                           MLE   Df Model:                           13\n",
      "Date:                Tue, 09 Apr 2024   Pseudo R-squ.:                  0.6977\n",
      "Time:                        18:45:55   Log-Likelihood:                -780.38\n",
      "converged:                       True   LL-Null:                       -2581.8\n",
      "Covariance Type:            nonrobust   LLR p-value:                     0.000\n",
      "==============================================================================\n",
      "                 coef    std err          z      P>|z|      [0.025      0.975]\n",
      "------------------------------------------------------------------------------\n",
      "const         -8.9924      0.171    -52.645      0.000      -9.327      -8.658\n",
      "V4             0.6736      0.058     11.528      0.000       0.559       0.788\n",
      "V5             0.0590      0.041      1.435      0.151      -0.022       0.140\n",
      "V8            -0.1715      0.027     -6.359      0.000      -0.224      -0.119\n",
      "V10           -0.8001      0.088     -9.048      0.000      -0.973      -0.627\n",
      "V13           -0.3218      0.092     -3.484      0.000      -0.503      -0.141\n",
      "V14           -0.6776      0.059    -11.462      0.000      -0.793      -0.562\n",
      "V20           -0.2487      0.060     -4.136      0.000      -0.367      -0.131\n",
      "V21            0.5591      0.060      9.244      0.000       0.441       0.678\n",
      "V22            1.0687      0.140      7.653      0.000       0.795       1.342\n",
      "V23           -0.1036      0.058     -1.772      0.076      -0.218       0.011\n",
      "V27           -0.6235      0.124     -5.029      0.000      -0.866      -0.380\n",
      "V28           -0.3618      0.117     -3.094      0.002      -0.591      -0.133\n",
      "Amount         0.0002      0.000      0.936      0.349      -0.000       0.001\n",
      "==============================================================================\n",
      "\n",
      "Possibly complete quasi-separation: A fraction 0.43 of observations can be\n",
      "perfectly predicted. This might indicate that there is complete\n",
      "quasi-separation. In this case some parameters will not be identified.\n"
     ]
    }
   ],
   "source": [
    "#making log reg model and printing result\n",
    "logit_model2 = sm.Logit(train_labels2, sm.add_constant(train_vectors2))\n",
    "result2 = logit_model2.fit()\n",
    "print(result2.summary())"
   ]
  },
  {
   "cell_type": "code",
   "execution_count": 19,
   "id": "91c770a4-3eef-4f60-b7db-53a98a30ffd1",
   "metadata": {},
   "outputs": [
    {
     "name": "stdout",
     "output_type": "stream",
     "text": [
      "Predicted class labels for test data:\n",
      "270656    0\n",
      "178940    0\n",
      "250539    0\n",
      "265384    0\n",
      "205393    0\n",
      "         ..\n",
      "14314     0\n",
      "136201    0\n",
      "82286     0\n",
      "148571    0\n",
      "3775      0\n",
      "Length: 71202, dtype: int32\n"
     ]
    }
   ],
   "source": [
    "#finding and printing predicted labels\n",
    "predicted_probabilities2 = result2.predict(sm.add_constant(test_vectors2))\n",
    "predicted_labels2 = (predicted_probabilities2 > 0.5).astype(int)\n",
    "print(\"Predicted class labels for test data:\")\n",
    "print(predicted_labels2)"
   ]
  },
  {
   "cell_type": "code",
   "execution_count": 20,
   "id": "71827e5b-85c3-49ee-9208-d12019a0d968",
   "metadata": {},
   "outputs": [
    {
     "name": "stdout",
     "output_type": "stream",
     "text": [
      "Accuracy Score: 0.9989747479003399\n"
     ]
    },
    {
     "data": {
      "text/plain": [
       "<AxesSubplot:title={'center':'Confusion Matrix'}, xlabel='Predicted label', ylabel='True label'>"
      ]
     },
     "execution_count": 20,
     "metadata": {},
     "output_type": "execute_result"
    },
    {
     "data": {
      "image/png": "[encoded data removed]",
      "text/plain": [
       "<Figure size 432x288 with 2 Axes>"
      ]
     },
     "metadata": {
      "needs_background": "light"
     },
     "output_type": "display_data"
    }
   ],
   "source": [
    "#accuracy score and confusion matrix [4]\n",
    "accuracy2 = accuracy_score(test_labels2, predicted_labels2)\n",
    "print(\"Accuracy Score:\", accuracy2)\n",
    "skplt.metrics.plot_confusion_matrix(test_labels2, predicted_labels2)"
   ]
  },
  {
   "cell_type": "code",
   "execution_count": 21,
   "id": "9e99b746-c3e0-4f6e-82f0-aecdd2e7bb36",
   "metadata": {
    "scrolled": true
   },
   "outputs": [
    {
     "name": "stdout",
     "output_type": "stream",
     "text": [
      "99.97607588167412 % of Non Fraud Correctly Predicted\n",
      "0.023924118325874637 % of Non Fraud Incorrectly Predicted\n",
      "61.111111111111114 % of Fraud Correctly Predicted\n",
      "38.88888888888889 % of Fraud Incorrectly Predicted\n"
     ]
    }
   ],
   "source": [
    "#creating second matrix to get TP/FP/TN/FN values\n",
    "conf_matrix2 = confusion_matrix(test_labels2, predicted_labels2)\n",
    "TP2 = conf_matrix2[1, 1]  # True Positives\n",
    "FP2 = conf_matrix2[0, 1]  # False Positives\n",
    "TN2 = conf_matrix2[0, 0]  # True Negatives\n",
    "FN2 = conf_matrix2[1, 0]  \n",
    "\n",
    "# results as percentages \n",
    "print(TN2/(TN2 + FP2) * 100, '% of Non Fraud Correctly Predicted')\n",
    "print(FP2/(TN2 + FP2) * 100, '% of Non Fraud Incorrectly Predicted')\n",
    "print(TP2/(TP2+FN2) * 100, '% of Fraud Correctly Predicted')\n",
    "print(FN2/(TP2+FN2) * 100, '% of Fraud Incorrectly Predicted')"
   ]
  },
  {
   "cell_type": "markdown",
   "id": "ae45d7e2-1087-4773-a1e2-c674cc6a83fa",
   "metadata": {},
   "source": [
    "**Test 3**"
   ]
  },
  {
   "cell_type": "code",
   "execution_count": 22,
   "id": "f6382bc4-ed82-46eb-8ba0-98b4fc5e1335",
   "metadata": {},
   "outputs": [
    {
     "name": "stdout",
     "output_type": "stream",
     "text": [
      "Optimization terminated successfully.\n",
      "         Current function value: 0.012585\n",
      "         Iterations 10\n",
      "                           Logit Regression Results                           \n",
      "==============================================================================\n",
      "Dep. Variable:                  Class   No. Observations:               213605\n",
      "Model:                          Logit   Df Residuals:                   213603\n",
      "Method:                           MLE   Df Model:                            1\n",
      "Date:                Tue, 09 Apr 2024   Pseudo R-squ.:               0.0008050\n",
      "Time:                        18:46:42   Log-Likelihood:                -2688.3\n",
      "converged:                       True   LL-Null:                       -2690.5\n",
      "Covariance Type:            nonrobust   LLR p-value:                   0.03741\n",
      "==============================================================================\n",
      "                 coef    std err          z      P>|z|      [0.025      0.975]\n",
      "------------------------------------------------------------------------------\n",
      "const         -6.3965      0.054   -119.406      0.000      -6.501      -6.291\n",
      "Amount         0.0003   9.22e-05      2.833      0.005    8.05e-05       0.000\n",
      "==============================================================================\n"
     ]
    }
   ],
   "source": [
    "#logistic regression model 3\n",
    "#class vs amount\n",
    "classdf1= df1['Class']\n",
    "feature3 = df1['Amount']\n",
    "\n",
    "#getting train/test vectors and labels \n",
    "train_vectors3, test_vectors3, train_labels3, test_labels3 = train_test_split(feature3,classdf1, test_size = 0.25, train_size =0.75)\n",
    "\n",
    "#creating log reg model \n",
    "logit_model3 = sm.Logit(train_labels3, sm.add_constant(train_vectors3))\n",
    "\n",
    "#get/print results \n",
    "result3 = logit_model3.fit()\n",
    "print(result3.summary())\n"
   ]
  },
  {
   "cell_type": "code",
   "execution_count": 23,
   "id": "ab5e0d54-fee2-4903-98e2-40558b146471",
   "metadata": {
    "scrolled": true
   },
   "outputs": [
    {
     "name": "stdout",
     "output_type": "stream",
     "text": [
      "Predicted class labels for test data:\n",
      "157365    0\n",
      "88262     0\n",
      "18114     0\n",
      "158849    0\n",
      "276532    0\n",
      "         ..\n",
      "158121    0\n",
      "154999    0\n",
      "55342     0\n",
      "50579     0\n",
      "245951    0\n",
      "Length: 71202, dtype: int32\n"
     ]
    }
   ],
   "source": [
    "#getting/printing predicted labels \n",
    "predicted_probabilities3 = result3.predict(sm.add_constant(test_vectors3))\n",
    "predicted_labels3 = (predicted_probabilities3 > 0.5).astype(int)\n",
    "print(\"Predicted class labels for test data:\")\n",
    "print(predicted_labels3)"
   ]
  },
  {
   "cell_type": "code",
   "execution_count": 24,
   "id": "80bb7ba9-67d7-41a6-a68b-1bf1acc846c9",
   "metadata": {
    "scrolled": true
   },
   "outputs": [
    {
     "name": "stdout",
     "output_type": "stream",
     "text": [
      "Accuracy Score: 0.9982022976882672\n"
     ]
    },
    {
     "data": {
      "text/plain": [
       "<AxesSubplot:title={'center':'Confusion Matrix'}, xlabel='Predicted label', ylabel='True label'>"
      ]
     },
     "execution_count": 24,
     "metadata": {},
     "output_type": "execute_result"
    },
    {
     "data": {
      "image/png": "[encoded data removed]",
      "text/plain": [
       "<Figure size 432x288 with 2 Axes>"
      ]
     },
     "metadata": {
      "needs_background": "light"
     },
     "output_type": "display_data"
    }
   ],
   "source": [
    "#printing accuracy score \n",
    "accuracy3 = accuracy_score(test_labels3, predicted_labels3)\n",
    "print(\"Accuracy Score:\", accuracy3)\n",
    "#create confusion matrix [4]\n",
    "skplt.metrics.plot_confusion_matrix(test_labels3, predicted_labels3)"
   ]
  },
  {
   "cell_type": "code",
   "execution_count": 26,
   "id": "9c407f5c-f35c-4508-90d4-ac3d5e7635f0",
   "metadata": {
    "scrolled": true
   },
   "outputs": [
    {
     "name": "stdout",
     "output_type": "stream",
     "text": [
      "99.99859303552586 % of Non Fraud Correctly Predicted\n",
      "0.0014069644741470278 % of Non Fraud Incorrectly Predicted\n",
      "0.0 % of Fraud Correctly Predicted\n",
      "100.0 % of Fraud Incorrectly Predicted\n"
     ]
    }
   ],
   "source": [
    "#second conf. matrix to acccess TP/FP/TN/FN\n",
    "conf_matrix3 = confusion_matrix(test_labels3, predicted_labels3)\n",
    "TP3 = conf_matrix3[1, 1]  # True Positives\n",
    "FP3 = conf_matrix3[0, 1]  # False Positives\n",
    "TN3 = conf_matrix3[0, 0]  # True Negatives\n",
    "FN3 = conf_matrix3[1, 0]  \n",
    "\n",
    "#print results as percents \n",
    "print(TN3/(TN3 + FP3) * 100, '% of Non Fraud Correctly Predicted')\n",
    "print(FP3/(TN3 + FP3) * 100, '% of Non Fraud Incorrectly Predicted')\n",
    "print(TP3/(TP3+FN3) * 100, '% of Fraud Correctly Predicted')\n",
    "print(FN3/(TP3+FN3) * 100, '% of Fraud Incorrectly Predicted')"
   ]
  },
  {
   "cell_type": "markdown",
   "id": "57c88a1c-6136-42e5-b9dd-073a7dc0ebd2",
   "metadata": {},
   "source": [
    "**Analysis of Logistic Regression Model**\n",
    "\n",
    "- Test 2 (significant features model) has the greatest accuracy score (around 0.99) and greatest percentage of correctly identified fraudulent transactions (more than 60%)\n",
    "- For the best model, 60% is not a great percentage\n",
    "- Using a log-reg model in the real world to identity fraudulent transactions is not very effective. More than 30% of fraudulent transactions would not be identified correctly \n",
    "\n",
    " \n"
   ]
  },
  {
   "cell_type": "markdown",
   "id": "c3966b03-2053-4ec8-84f4-faa6344bf4bc",
   "metadata": {},
   "source": [
    "*PROS*\n",
    "- Quick running time \n",
    "- Easy to set-up"
   ]
  },
  {
   "cell_type": "markdown",
   "id": "876b3344-a88e-4dda-8c8e-e869e5d518a8",
   "metadata": {},
   "source": [
    "*CONS*\n",
    "- Accuracy is not a good metric for this model. \n",
    "- While Test 3 has an accuracy score of .998, it did not classify any of the fraudulent values correctly\n",
    "- Difficult to visualize beyond confusion matrices \n"
   ]
  },
  {
   "cell_type": "markdown",
   "id": "a3702ae7-fe0c-4f97-93d4-30e106719538",
   "metadata": {},
   "source": [
    "### Model 2: Random Forrest"
   ]
  },
  {
   "cell_type": "markdown",
   "id": "075274d2",
   "metadata": {},
   "source": [
    "Read the data again for random forest model to maintain data integrity over the notebook. "
   ]
  },
  {
   "cell_type": "code",
   "execution_count": 4,
   "id": "bd4a982d",
   "metadata": {},
   "outputs": [
    {
     "data": {
      "text/html": [
       "<div>\n",
       "<style scoped>\n",
       "    .dataframe tbody tr th:only-of-type {\n",
       "        vertical-align: middle;\n",
       "    }\n",
       "\n",
       "    .dataframe tbody tr th {\n",
       "        vertical-align: top;\n",
       "    }\n",
       "\n",
       "    .dataframe thead th {\n",
       "        text-align: right;\n",
       "    }\n",
       "</style>\n",
       "<table border=\"1\" class=\"dataframe\">\n",
       "  <thead>\n",
       "    <tr style=\"text-align: right;\">\n",
       "      <th></th>\n",
       "      <th>Time</th>\n",
       "      <th>V1</th>\n",
       "      <th>V2</th>\n",
       "      <th>V3</th>\n",
       "      <th>V4</th>\n",
       "      <th>V5</th>\n",
       "      <th>V6</th>\n",
       "      <th>V7</th>\n",
       "      <th>V8</th>\n",
       "      <th>V9</th>\n",
       "      <th>...</th>\n",
       "      <th>V21</th>\n",
       "      <th>V22</th>\n",
       "      <th>V23</th>\n",
       "      <th>V24</th>\n",
       "      <th>V25</th>\n",
       "      <th>V26</th>\n",
       "      <th>V27</th>\n",
       "      <th>V28</th>\n",
       "      <th>Amount</th>\n",
       "      <th>Class</th>\n",
       "    </tr>\n",
       "  </thead>\n",
       "  <tbody>\n",
       "    <tr>\n",
       "      <th>0</th>\n",
       "      <td>0.0</td>\n",
       "      <td>-1.359807</td>\n",
       "      <td>-0.072781</td>\n",
       "      <td>2.536347</td>\n",
       "      <td>1.378155</td>\n",
       "      <td>-0.338321</td>\n",
       "      <td>0.462388</td>\n",
       "      <td>0.239599</td>\n",
       "      <td>0.098698</td>\n",
       "      <td>0.363787</td>\n",
       "      <td>...</td>\n",
       "      <td>-0.018307</td>\n",
       "      <td>0.277838</td>\n",
       "      <td>-0.110474</td>\n",
       "      <td>0.066928</td>\n",
       "      <td>0.128539</td>\n",
       "      <td>-0.189115</td>\n",
       "      <td>0.133558</td>\n",
       "      <td>-0.021053</td>\n",
       "      <td>149.62</td>\n",
       "      <td>0</td>\n",
       "    </tr>\n",
       "    <tr>\n",
       "      <th>1</th>\n",
       "      <td>0.0</td>\n",
       "      <td>1.191857</td>\n",
       "      <td>0.266151</td>\n",
       "      <td>0.166480</td>\n",
       "      <td>0.448154</td>\n",
       "      <td>0.060018</td>\n",
       "      <td>-0.082361</td>\n",
       "      <td>-0.078803</td>\n",
       "      <td>0.085102</td>\n",
       "      <td>-0.255425</td>\n",
       "      <td>...</td>\n",
       "      <td>-0.225775</td>\n",
       "      <td>-0.638672</td>\n",
       "      <td>0.101288</td>\n",
       "      <td>-0.339846</td>\n",
       "      <td>0.167170</td>\n",
       "      <td>0.125895</td>\n",
       "      <td>-0.008983</td>\n",
       "      <td>0.014724</td>\n",
       "      <td>2.69</td>\n",
       "      <td>0</td>\n",
       "    </tr>\n",
       "    <tr>\n",
       "      <th>2</th>\n",
       "      <td>1.0</td>\n",
       "      <td>-1.358354</td>\n",
       "      <td>-1.340163</td>\n",
       "      <td>1.773209</td>\n",
       "      <td>0.379780</td>\n",
       "      <td>-0.503198</td>\n",
       "      <td>1.800499</td>\n",
       "      <td>0.791461</td>\n",
       "      <td>0.247676</td>\n",
       "      <td>-1.514654</td>\n",
       "      <td>...</td>\n",
       "      <td>0.247998</td>\n",
       "      <td>0.771679</td>\n",
       "      <td>0.909412</td>\n",
       "      <td>-0.689281</td>\n",
       "      <td>-0.327642</td>\n",
       "      <td>-0.139097</td>\n",
       "      <td>-0.055353</td>\n",
       "      <td>-0.059752</td>\n",
       "      <td>378.66</td>\n",
       "      <td>0</td>\n",
       "    </tr>\n",
       "    <tr>\n",
       "      <th>3</th>\n",
       "      <td>1.0</td>\n",
       "      <td>-0.966272</td>\n",
       "      <td>-0.185226</td>\n",
       "      <td>1.792993</td>\n",
       "      <td>-0.863291</td>\n",
       "      <td>-0.010309</td>\n",
       "      <td>1.247203</td>\n",
       "      <td>0.237609</td>\n",
       "      <td>0.377436</td>\n",
       "      <td>-1.387024</td>\n",
       "      <td>...</td>\n",
       "      <td>-0.108300</td>\n",
       "      <td>0.005274</td>\n",
       "      <td>-0.190321</td>\n",
       "      <td>-1.175575</td>\n",
       "      <td>0.647376</td>\n",
       "      <td>-0.221929</td>\n",
       "      <td>0.062723</td>\n",
       "      <td>0.061458</td>\n",
       "      <td>123.50</td>\n",
       "      <td>0</td>\n",
       "    </tr>\n",
       "    <tr>\n",
       "      <th>4</th>\n",
       "      <td>2.0</td>\n",
       "      <td>-1.158233</td>\n",
       "      <td>0.877737</td>\n",
       "      <td>1.548718</td>\n",
       "      <td>0.403034</td>\n",
       "      <td>-0.407193</td>\n",
       "      <td>0.095921</td>\n",
       "      <td>0.592941</td>\n",
       "      <td>-0.270533</td>\n",
       "      <td>0.817739</td>\n",
       "      <td>...</td>\n",
       "      <td>-0.009431</td>\n",
       "      <td>0.798278</td>\n",
       "      <td>-0.137458</td>\n",
       "      <td>0.141267</td>\n",
       "      <td>-0.206010</td>\n",
       "      <td>0.502292</td>\n",
       "      <td>0.219422</td>\n",
       "      <td>0.215153</td>\n",
       "      <td>69.99</td>\n",
       "      <td>0</td>\n",
       "    </tr>\n",
       "  </tbody>\n",
       "</table>\n",
       "<p>5 rows × 31 columns</p>\n",
       "</div>"
      ],
      "text/plain": [
       "   Time        V1        V2        V3        V4        V5        V6        V7  \\\n",
       "0   0.0 -1.359807 -0.072781  2.536347  1.378155 -0.338321  0.462388  0.239599   \n",
       "1   0.0  1.191857  0.266151  0.166480  0.448154  0.060018 -0.082361 -0.078803   \n",
       "2   1.0 -1.358354 -1.340163  1.773209  0.379780 -0.503198  1.800499  0.791461   \n",
       "3   1.0 -0.966272 -0.185226  1.792993 -0.863291 -0.010309  1.247203  0.237609   \n",
       "4   2.0 -1.158233  0.877737  1.548718  0.403034 -0.407193  0.095921  0.592941   \n",
       "\n",
       "         V8        V9  ...       V21       V22       V23       V24       V25  \\\n",
       "0  0.098698  0.363787  ... -0.018307  0.277838 -0.110474  0.066928  0.128539   \n",
       "1  0.085102 -0.255425  ... -0.225775 -0.638672  0.101288 -0.339846  0.167170   \n",
       "2  0.247676 -1.514654  ...  0.247998  0.771679  0.909412 -0.689281 -0.327642   \n",
       "3  0.377436 -1.387024  ... -0.108300  0.005274 -0.190321 -1.175575  0.647376   \n",
       "4 -0.270533  0.817739  ... -0.009431  0.798278 -0.137458  0.141267 -0.206010   \n",
       "\n",
       "        V26       V27       V28  Amount  Class  \n",
       "0 -0.189115  0.133558 -0.021053  149.62      0  \n",
       "1  0.125895 -0.008983  0.014724    2.69      0  \n",
       "2 -0.139097 -0.055353 -0.059752  378.66      0  \n",
       "3 -0.221929  0.062723  0.061458  123.50      0  \n",
       "4  0.502292  0.219422  0.215153   69.99      0  \n",
       "\n",
       "[5 rows x 31 columns]"
      ]
     },
     "execution_count": 4,
     "metadata": {},
     "output_type": "execute_result"
    }
   ],
   "source": [
    "df_random_forest = pd.read_csv('creditcard.csv1')\n",
    "df_random_forest.head()"
   ]
  },
  {
   "cell_type": "code",
   "execution_count": 5,
   "id": "ca4e5e18-af76-4a31-b248-e6dc6c401301",
   "metadata": {},
   "outputs": [],
   "source": [
    "seed = 42\n",
    "X_train_rf, X_test_rf, y_train_rf, y_test_rf = train_test_split(df_random_forest.drop([\"Class\"], axis = 1), df_random_forest[\"Class\"], test_size = 0.3, random_state = seed)"
   ]
  },
  {
   "cell_type": "markdown",
   "id": "f227a43a",
   "metadata": {},
   "source": [
    "Data Fitting Process:"
   ]
  },
  {
   "cell_type": "code",
   "execution_count": 6,
   "id": "a916c7d4-c69a-4d69-9fc9-6a9bbb5f1149",
   "metadata": {},
   "outputs": [
    {
     "data": {
      "text/plain": [
       "RandomForestClassifier()"
      ]
     },
     "execution_count": 6,
     "metadata": {},
     "output_type": "execute_result"
    }
   ],
   "source": [
    "rf_classifier = RandomForestClassifier()\n",
    "rf_classifier.fit(X_train_rf,y_train_rf)"
   ]
  },
  {
   "cell_type": "markdown",
   "id": "464fcbf2",
   "metadata": {},
   "source": [
    "Prediction By the Model and Quantitative Evaluation of the Model:"
   ]
  },
  {
   "cell_type": "code",
   "execution_count": 7,
   "id": "ba90bb7f",
   "metadata": {},
   "outputs": [
    {
     "name": "stdout",
     "output_type": "stream",
     "text": [
      "Accuracy Score: 0.9996254813150287\n",
      "Recall Score: 0.8161764705882353\n",
      "Precission Score: 0.940677966101695\n",
      "F1 Score: 0.8740157480314961\n"
     ]
    }
   ],
   "source": [
    "y_pred_rf_classifier = rf_classifier.predict(X_test_rf) \n",
    "\n",
    "print(f\"Accuracy Score: {accuracy_score(y_test_rf,y_pred_rf_classifier)}\")\n",
    "print(f\"Recall Score: {recall_score(y_test_rf,y_pred_rf_classifier)}\")\n",
    "print(f\"Precission Score: {precision_score(y_test_rf,y_pred_rf_classifier)}\")\n",
    "print(f\"F1 Score: {f1_score(y_test_rf,y_pred_rf_classifier)}\")"
   ]
  },
  {
   "cell_type": "markdown",
   "id": "892eb1c4",
   "metadata": {},
   "source": [
    "The random forest model achieved an accuracy of 99.96%, indicating its effectiveness in classifying transactions. It captured 82.35% of fraudulent transactions (recall) and correctly identified fraud 92.56% of the time (precision). The F1 score, considering both precision and recall, was 87.16%, providing a balanced measure of the model's performance."
   ]
  },
  {
   "cell_type": "markdown",
   "id": "280fe9c9-0e82-4e44-b0b8-015b8ea376eb",
   "metadata": {},
   "source": [
    "### Model 3: Naive Bayes Classifier "
   ]
  },
  {
   "cell_type": "markdown",
   "id": "8070a649",
   "metadata": {},
   "source": [
    "Read the data again to maintain integrity:"
   ]
  },
  {
   "cell_type": "code",
   "execution_count": 39,
   "id": "e90eb184",
   "metadata": {},
   "outputs": [
    {
     "data": {
      "text/html": [
       "<div>\n",
       "<style scoped>\n",
       "    .dataframe tbody tr th:only-of-type {\n",
       "        vertical-align: middle;\n",
       "    }\n",
       "\n",
       "    .dataframe tbody tr th {\n",
       "        vertical-align: top;\n",
       "    }\n",
       "\n",
       "    .dataframe thead th {\n",
       "        text-align: right;\n",
       "    }\n",
       "</style>\n",
       "<table border=\"1\" class=\"dataframe\">\n",
       "  <thead>\n",
       "    <tr style=\"text-align: right;\">\n",
       "      <th></th>\n",
       "      <th>Time</th>\n",
       "      <th>V1</th>\n",
       "      <th>V2</th>\n",
       "      <th>V3</th>\n",
       "      <th>V4</th>\n",
       "      <th>V5</th>\n",
       "      <th>V6</th>\n",
       "      <th>V7</th>\n",
       "      <th>V8</th>\n",
       "      <th>V9</th>\n",
       "      <th>...</th>\n",
       "      <th>V21</th>\n",
       "      <th>V22</th>\n",
       "      <th>V23</th>\n",
       "      <th>V24</th>\n",
       "      <th>V25</th>\n",
       "      <th>V26</th>\n",
       "      <th>V27</th>\n",
       "      <th>V28</th>\n",
       "      <th>Amount</th>\n",
       "      <th>Class</th>\n",
       "    </tr>\n",
       "  </thead>\n",
       "  <tbody>\n",
       "    <tr>\n",
       "      <th>0</th>\n",
       "      <td>0.0</td>\n",
       "      <td>-1.359807</td>\n",
       "      <td>-0.072781</td>\n",
       "      <td>2.536347</td>\n",
       "      <td>1.378155</td>\n",
       "      <td>-0.338321</td>\n",
       "      <td>0.462388</td>\n",
       "      <td>0.239599</td>\n",
       "      <td>0.098698</td>\n",
       "      <td>0.363787</td>\n",
       "      <td>...</td>\n",
       "      <td>-0.018307</td>\n",
       "      <td>0.277838</td>\n",
       "      <td>-0.110474</td>\n",
       "      <td>0.066928</td>\n",
       "      <td>0.128539</td>\n",
       "      <td>-0.189115</td>\n",
       "      <td>0.133558</td>\n",
       "      <td>-0.021053</td>\n",
       "      <td>149.62</td>\n",
       "      <td>0</td>\n",
       "    </tr>\n",
       "    <tr>\n",
       "      <th>1</th>\n",
       "      <td>0.0</td>\n",
       "      <td>1.191857</td>\n",
       "      <td>0.266151</td>\n",
       "      <td>0.166480</td>\n",
       "      <td>0.448154</td>\n",
       "      <td>0.060018</td>\n",
       "      <td>-0.082361</td>\n",
       "      <td>-0.078803</td>\n",
       "      <td>0.085102</td>\n",
       "      <td>-0.255425</td>\n",
       "      <td>...</td>\n",
       "      <td>-0.225775</td>\n",
       "      <td>-0.638672</td>\n",
       "      <td>0.101288</td>\n",
       "      <td>-0.339846</td>\n",
       "      <td>0.167170</td>\n",
       "      <td>0.125895</td>\n",
       "      <td>-0.008983</td>\n",
       "      <td>0.014724</td>\n",
       "      <td>2.69</td>\n",
       "      <td>0</td>\n",
       "    </tr>\n",
       "    <tr>\n",
       "      <th>2</th>\n",
       "      <td>1.0</td>\n",
       "      <td>-1.358354</td>\n",
       "      <td>-1.340163</td>\n",
       "      <td>1.773209</td>\n",
       "      <td>0.379780</td>\n",
       "      <td>-0.503198</td>\n",
       "      <td>1.800499</td>\n",
       "      <td>0.791461</td>\n",
       "      <td>0.247676</td>\n",
       "      <td>-1.514654</td>\n",
       "      <td>...</td>\n",
       "      <td>0.247998</td>\n",
       "      <td>0.771679</td>\n",
       "      <td>0.909412</td>\n",
       "      <td>-0.689281</td>\n",
       "      <td>-0.327642</td>\n",
       "      <td>-0.139097</td>\n",
       "      <td>-0.055353</td>\n",
       "      <td>-0.059752</td>\n",
       "      <td>378.66</td>\n",
       "      <td>0</td>\n",
       "    </tr>\n",
       "    <tr>\n",
       "      <th>3</th>\n",
       "      <td>1.0</td>\n",
       "      <td>-0.966272</td>\n",
       "      <td>-0.185226</td>\n",
       "      <td>1.792993</td>\n",
       "      <td>-0.863291</td>\n",
       "      <td>-0.010309</td>\n",
       "      <td>1.247203</td>\n",
       "      <td>0.237609</td>\n",
       "      <td>0.377436</td>\n",
       "      <td>-1.387024</td>\n",
       "      <td>...</td>\n",
       "      <td>-0.108300</td>\n",
       "      <td>0.005274</td>\n",
       "      <td>-0.190321</td>\n",
       "      <td>-1.175575</td>\n",
       "      <td>0.647376</td>\n",
       "      <td>-0.221929</td>\n",
       "      <td>0.062723</td>\n",
       "      <td>0.061458</td>\n",
       "      <td>123.50</td>\n",
       "      <td>0</td>\n",
       "    </tr>\n",
       "    <tr>\n",
       "      <th>4</th>\n",
       "      <td>2.0</td>\n",
       "      <td>-1.158233</td>\n",
       "      <td>0.877737</td>\n",
       "      <td>1.548718</td>\n",
       "      <td>0.403034</td>\n",
       "      <td>-0.407193</td>\n",
       "      <td>0.095921</td>\n",
       "      <td>0.592941</td>\n",
       "      <td>-0.270533</td>\n",
       "      <td>0.817739</td>\n",
       "      <td>...</td>\n",
       "      <td>-0.009431</td>\n",
       "      <td>0.798278</td>\n",
       "      <td>-0.137458</td>\n",
       "      <td>0.141267</td>\n",
       "      <td>-0.206010</td>\n",
       "      <td>0.502292</td>\n",
       "      <td>0.219422</td>\n",
       "      <td>0.215153</td>\n",
       "      <td>69.99</td>\n",
       "      <td>0</td>\n",
       "    </tr>\n",
       "  </tbody>\n",
       "</table>\n",
       "<p>5 rows × 31 columns</p>\n",
       "</div>"
      ],
      "text/plain": [
       "   Time        V1        V2        V3        V4        V5        V6        V7  \\\n",
       "0   0.0 -1.359807 -0.072781  2.536347  1.378155 -0.338321  0.462388  0.239599   \n",
       "1   0.0  1.191857  0.266151  0.166480  0.448154  0.060018 -0.082361 -0.078803   \n",
       "2   1.0 -1.358354 -1.340163  1.773209  0.379780 -0.503198  1.800499  0.791461   \n",
       "3   1.0 -0.966272 -0.185226  1.792993 -0.863291 -0.010309  1.247203  0.237609   \n",
       "4   2.0 -1.158233  0.877737  1.548718  0.403034 -0.407193  0.095921  0.592941   \n",
       "\n",
       "         V8        V9  ...       V21       V22       V23       V24       V25  \\\n",
       "0  0.098698  0.363787  ... -0.018307  0.277838 -0.110474  0.066928  0.128539   \n",
       "1  0.085102 -0.255425  ... -0.225775 -0.638672  0.101288 -0.339846  0.167170   \n",
       "2  0.247676 -1.514654  ...  0.247998  0.771679  0.909412 -0.689281 -0.327642   \n",
       "3  0.377436 -1.387024  ... -0.108300  0.005274 -0.190321 -1.175575  0.647376   \n",
       "4 -0.270533  0.817739  ... -0.009431  0.798278 -0.137458  0.141267 -0.206010   \n",
       "\n",
       "        V26       V27       V28  Amount  Class  \n",
       "0 -0.189115  0.133558 -0.021053  149.62      0  \n",
       "1  0.125895 -0.008983  0.014724    2.69      0  \n",
       "2 -0.139097 -0.055353 -0.059752  378.66      0  \n",
       "3 -0.221929  0.062723  0.061458  123.50      0  \n",
       "4  0.502292  0.219422  0.215153   69.99      0  \n",
       "\n",
       "[5 rows x 31 columns]"
      ]
     },
     "execution_count": 39,
     "metadata": {},
     "output_type": "execute_result"
    }
   ],
   "source": [
    "df_nb = pd.read_csv('creditcard1.csv')\n",
    "df_nb.head()"
   ]
  },
  {
   "cell_type": "code",
   "execution_count": 41,
   "id": "0173547e",
   "metadata": {},
   "outputs": [
    {
     "name": "stdout",
     "output_type": "stream",
     "text": [
      "Class as pie chart:\n"
     ]
    },
    {
     "data": {
      "text/plain": [
       "Text(0, 0.5, '')"
      ]
     },
     "execution_count": 41,
     "metadata": {},
     "output_type": "execute_result"
    },
    {
     "data": {
      "image/png": "[encoded data removed]",
      "text/plain": [
       "<Figure size 432x288 with 1 Axes>"
      ]
     },
     "metadata": {},
     "output_type": "display_data"
    }
   ],
   "source": [
    "print(\"Class as pie chart:\")\n",
    "fig, ax = plt.subplots(1, 1)\n",
    "ax.pie(df_nb.Class.value_counts(),autopct='%1.1f%%', labels=['Genuine','Fraud'], colors=['yellowgreen','r'])\n",
    "plt.axis('equal')\n",
    "plt.ylabel('')"
   ]
  },
  {
   "cell_type": "markdown",
   "id": "123c06a8",
   "metadata": {},
   "source": [
    "Distribution of transaction times between genuine and fraudulent transactions:"
   ]
  },
  {
   "cell_type": "code",
   "execution_count": 44,
   "id": "909cc40d",
   "metadata": {},
   "outputs": [
    {
     "name": "stdout",
     "output_type": "stream",
     "text": [
      "Time variable\n",
      "284802    47.996111\n",
      "284803    47.996389\n",
      "284804    47.996667\n",
      "284805    47.996667\n",
      "284806    47.997778\n",
      "Name: Time_Hr, dtype: float64\n"
     ]
    },
    {
     "data": {
      "text/plain": [
       "Text(0, 0.5, '# transactions')"
      ]
     },
     "execution_count": 44,
     "metadata": {},
     "output_type": "execute_result"
    },
    {
     "data": {
      "image/png": "[encoded data removed]",
      "text/plain": [
       "<Figure size 432x216 with 2 Axes>"
      ]
     },
     "metadata": {
      "needs_background": "light"
     },
     "output_type": "display_data"
    }
   ],
   "source": [
    "print(\"Time variable\")\n",
    "df_nb[\"Time_Hr\"] = df_nb[\"Time\"]/3600 \n",
    "print(df_nb[\"Time_Hr\"].tail(5))\n",
    "fig, (ax1, ax2) = plt.subplots(2, 1, sharex = True, figsize=(6,3))\n",
    "ax1.hist(df_nb.Time_Hr[df_nb.Class==0],bins=48,color='g',alpha=0.5)\n",
    "ax1.set_title('Genuine')\n",
    "ax2.hist(df_nb.Time_Hr[df_nb.Class==1],bins=48,color='r',alpha=0.5)\n",
    "ax2.set_title('Fraud')\n",
    "plt.xlabel('Time (hrs)')\n",
    "plt.ylabel('# transactions')\n",
    "    "
   ]
  },
  {
   "cell_type": "markdown",
   "id": "6afe1ab9",
   "metadata": {},
   "source": [
    "Visualization to compare the distribution of transaction amounts between genuine and fraudulent transactions:"
   ]
  },
  {
   "cell_type": "code",
   "execution_count": 45,
   "id": "16decfe2",
   "metadata": {},
   "outputs": [],
   "source": [
    "df_nb = df_nb.drop(['Time'],axis=1)"
   ]
  },
  {
   "cell_type": "code",
   "execution_count": 47,
   "id": "e3c3c1cc",
   "metadata": {},
   "outputs": [
    {
     "data": {
      "text/plain": [
       "Text(0, 0.5, '# transactions')"
      ]
     },
     "execution_count": 47,
     "metadata": {},
     "output_type": "execute_result"
    },
    {
     "data": {
      "image/png": "[encoded data removed]",
      "text/plain": [
       "<Figure size 432x216 with 2 Axes>"
      ]
     },
     "metadata": {
      "needs_background": "light"
     },
     "output_type": "display_data"
    }
   ],
   "source": [
    "fig, (ax3,ax4) = plt.subplots(2,1, figsize = (6,3), sharex = True)\n",
    "ax3.hist(df_nb.Amount[df_nb.Class==0],bins=50,color='g',alpha=0.5)\n",
    "ax3.set_yscale('log') # to see the tails\n",
    "ax3.set_title('Genuine') # to see the tails\n",
    "ax3.set_ylabel('# transactions')\n",
    "ax4.hist(df_nb.Amount[df_nb.Class==1],bins=50,color='r',alpha=0.5)\n",
    "ax4.set_yscale('log') # to see the tails\n",
    "ax4.set_title('Fraud') # to see the tails\n",
    "ax4.set_xlabel('Amount ($)')\n",
    "ax4.set_ylabel('# transactions')"
   ]
  },
  {
   "cell_type": "code",
   "execution_count": 52,
   "id": "0ef16553",
   "metadata": {},
   "outputs": [],
   "source": [
    "def split_data(df, drop_list):\n",
    "    \"\"\"\n",
    "    Splits the DataFrame into features and target variables, and further splits the data into training and testing sets.\n",
    "\n",
    "    @param df: The DataFrame containing the dataset.\n",
    "    @param drop_list: A list of column names to drop from the DataFrame before splitting.\n",
    "\n",
    "    @Returns: Four arrays representing the training features, testing features, training targets, and testing targets, respectively.\n",
    "    \"\"\"\n",
    "\n",
    "    df = df.drop(drop_list,axis=1)\n",
    "    print(df.columns)\n",
    "    #test train split time\n",
    "    from sklearn.model_selection import train_test_split\n",
    "    y = df['Class'].values #target\n",
    "    X = df.drop(['Class'],axis=1).values #features\n",
    "    X_train, X_test, y_train, y_test = train_test_split(X, y, test_size=0.2,\n",
    "                                                    random_state=42, stratify=y)\n",
    "\n",
    "    print(\"train-set size: \", len(y_train),\n",
    "      \"\\ntest-set size: \", len(y_test))\n",
    "    print(\"fraud cases in test-set: \", sum(y_test))\n",
    "    return X_train, X_test, y_train, y_test"
   ]
  },
  {
   "cell_type": "code",
   "execution_count": 53,
   "id": "c87cabd7",
   "metadata": {},
   "outputs": [],
   "source": [
    "def get_predictions(clf, X_train, y_train, X_test):\n",
    "    \"\"\"\n",
    "    Generates predictions using a classifier on the test data and computes predicted probabilities.\n",
    "\n",
    "    @param clf: The classifier model.\n",
    "    @param X_train: The features of the training set.\n",
    "    @param y_train: The target labels of the training set.\n",
    "    @param X_test: The features of the test set.\n",
    "\n",
    "    @Returns: A tuple containing the predicted labels and predicted probabilities for the test set.\n",
    "    \"\"\"\n",
    "\n",
    "    # create classifier\n",
    "    clf = clf\n",
    "    # fit it to training data\n",
    "    clf.fit(X_train,y_train)\n",
    "    # predict using test data\n",
    "    y_pred = clf.predict(X_test)\n",
    "    # Compute predicted probabilities: y_pred_prob\n",
    "    y_pred_prob = clf.predict_proba(X_test)\n",
    "    #for fun: train-set predictions\n",
    "    train_pred = clf.predict(X_train)\n",
    "    print('train-set confusion matrix:\\n', confusion_matrix(y_train,train_pred)) \n",
    "    return y_pred, y_pred_prob"
   ]
  },
  {
   "cell_type": "code",
   "execution_count": 54,
   "id": "5759958a",
   "metadata": {},
   "outputs": [],
   "source": [
    "def print_scores(y_test,y_pred,y_pred_prob):\n",
    "    \"\"\"\n",
    "    Prints evaluation scores including confusion matrix, recall score, precision score, F1 score, accuracy score, and ROC AUC score.\n",
    "\n",
    "    @param y_test: The true labels of the test set.\n",
    "    @param y_pred: The predicted labels for the test set.\n",
    "    @param y_pred_prob: The predicted probabilities for the positive class (usually the second column) of the test set.\n",
    "\n",
    "    @Returns: None\n",
    "    \"\"\"\n",
    "\n",
    "    print('test-set confusion matrix:\\n', confusion_matrix(y_test,y_pred)) \n",
    "    print(\"recall score: \", recall_score(y_test,y_pred))\n",
    "    print(\"precision score: \", precision_score(y_test,y_pred))\n",
    "    print(\"f1 score: \", f1_score(y_test,y_pred))\n",
    "    print(\"accuracy score: \", accuracy_score(y_test,y_pred))\n",
    "    print(\"ROC AUC: {}\".format(roc_auc_score(y_test, y_pred_prob[:,1])))"
   ]
  },
  {
   "cell_type": "code",
   "execution_count": 56,
   "id": "46fc41e3",
   "metadata": {},
   "outputs": [
    {
     "name": "stdout",
     "output_type": "stream",
     "text": [
      "Index(['V1', 'V2', 'V3', 'V4', 'V5', 'V6', 'V7', 'V8', 'V9', 'V10', 'V11',\n",
      "       'V12', 'V13', 'V14', 'V15', 'V16', 'V17', 'V18', 'V19', 'V20', 'V21',\n",
      "       'V22', 'V23', 'V24', 'V25', 'V26', 'V27', 'V28', 'Amount', 'Class',\n",
      "       'Time_Hr'],\n",
      "      dtype='object')\n",
      "train-set size:  227845 \n",
      "test-set size:  56962\n",
      "fraud cases in test-set:  98\n",
      "train-set confusion matrix:\n",
      " [[222480   4971]\n",
      " [    69    325]]\n",
      "test-set confusion matrix:\n",
      " [[55535  1329]\n",
      " [   15    83]]\n",
      "recall score:  0.8469387755102041\n",
      "precision score:  0.058781869688385266\n",
      "f1 score:  0.10993377483443707\n",
      "accuracy score:  0.9764053228468101\n",
      "ROC AUC: 0.963248599594593\n"
     ]
    }
   ],
   "source": [
    "# case 1 normal\n",
    "drop_list = []\n",
    "X_train, X_test, y_train, y_test = split_data(df_nb, drop_list)\n",
    "y_pred, y_pred_prob = get_predictions(GaussianNB(), X_train, y_train, X_test)\n",
    "print_scores(y_test,y_pred,y_pred_prob)"
   ]
  },
  {
   "cell_type": "code",
   "execution_count": 57,
   "id": "d406d586",
   "metadata": {},
   "outputs": [
    {
     "name": "stdout",
     "output_type": "stream",
     "text": [
      "Index(['V1', 'V2', 'V3', 'V4', 'V5', 'V6', 'V7', 'V9', 'V10', 'V11', 'V12',\n",
      "       'V14', 'V16', 'V17', 'V18', 'V19', 'V21', 'Amount', 'Class', 'Time_Hr'],\n",
      "      dtype='object')\n",
      "train-set size:  227845 \n",
      "test-set size:  56962\n",
      "fraud cases in test-set:  98\n",
      "train-set confusion matrix:\n",
      " [[223967   3484]\n",
      " [    61    333]]\n",
      "test-set confusion matrix:\n",
      " [[55935   929]\n",
      " [   12    86]]\n",
      "recall score:  0.8775510204081632\n",
      "precision score:  0.08472906403940887\n",
      "f1 score:  0.15453728661275834\n",
      "accuracy score:  0.9834802148800955\n",
      "ROC AUC: 0.9621895923535424\n"
     ]
    }
   ],
   "source": [
    "# case 2 drop variables\n",
    "drop_list = ['V28','V27','V26','V25','V24','V23','V22','V20','V15','V13','V8']\n",
    "X_train, X_test, y_train, y_test = split_data(df_nb, drop_list)\n",
    "y_pred, y_pred_prob = get_predictions(GaussianNB(), X_train, y_train, X_test)\n",
    "print_scores(y_test,y_pred,y_pred_prob)"
   ]
  },
  {
   "cell_type": "code",
   "execution_count": 58,
   "id": "1a3ebe4a",
   "metadata": {},
   "outputs": [
    {
     "name": "stdout",
     "output_type": "stream",
     "text": [
      "Index(['V1', 'V2', 'V3', 'V4', 'V5', 'V6', 'V7', 'V9', 'V10', 'V11', 'V12',\n",
      "       'V14', 'V16', 'V17', 'V18', 'V19', 'V21', 'Amount', 'Class'],\n",
      "      dtype='object')\n",
      "train-set size:  227845 \n",
      "test-set size:  56962\n",
      "fraud cases in test-set:  98\n",
      "train-set confusion matrix:\n",
      " [[223964   3487]\n",
      " [    60    334]]\n",
      "test-set confusion matrix:\n",
      " [[55936   928]\n",
      " [   12    86]]\n",
      "recall score:  0.8775510204081632\n",
      "precision score:  0.08481262327416174\n",
      "f1 score:  0.15467625899280577\n",
      "accuracy score:  0.9834977704434535\n",
      "ROC AUC: 0.9613549837492679\n"
     ]
    }
   ],
   "source": [
    "# case 3 drop variables + Time\n",
    "drop_list = ['Time_Hr','V28','V27','V26','V25','V24','V23','V22','V20','V15','V13','V8']\n",
    "X_train, X_test, y_train, y_test = split_data(df_nb, drop_list)\n",
    "y_pred, y_pred_prob = get_predictions(GaussianNB(), X_train, y_train, X_test)\n",
    "print_scores(y_test,y_pred,y_pred_prob)"
   ]
  },
  {
   "cell_type": "markdown",
   "id": "134c2afb",
   "metadata": {},
   "source": [
    "The model has an accuracy of around .97 and correctly identifies about 90% of all actual fraudulent transactions."
   ]
  },
  {
   "cell_type": "markdown",
   "id": "16bb4fb4",
   "metadata": {},
   "source": [
    "Overall, Naive Bayes Classifier produces a very good result and performance.  Despite variations in feature selection, the models consistently demonstrated high accuracy and robust performance in identifying fraudulent transactions. Moreover, the model's performance may degrade when applied to highly imbalanced datasets or when dealing with correlated features. Accordingly, when applying the model to real-world problems, we need to modify and implement fine tuning to produce to best results."
   ]
  },
  {
   "cell_type": "markdown",
   "id": "41bbab83",
   "metadata": {},
   "source": [
    "### Model 4: Principal Component Analysis"
   ]
  },
  {
   "cell_type": "markdown",
   "id": "c5fc45bf",
   "metadata": {},
   "source": [
    "Read the data again to maintain integrity:"
   ]
  },
  {
   "cell_type": "code",
   "execution_count": 28,
   "id": "8a242aa0-4ce7-4852-9fb2-21435922ac9f",
   "metadata": {},
   "outputs": [
    {
     "data": {
      "text/html": [
       "<div>\n",
       "<style scoped>\n",
       "    .dataframe tbody tr th:only-of-type {\n",
       "        vertical-align: middle;\n",
       "    }\n",
       "\n",
       "    .dataframe tbody tr th {\n",
       "        vertical-align: top;\n",
       "    }\n",
       "\n",
       "    .dataframe thead th {\n",
       "        text-align: right;\n",
       "    }\n",
       "</style>\n",
       "<table border=\"1\" class=\"dataframe\">\n",
       "  <thead>\n",
       "    <tr style=\"text-align: right;\">\n",
       "      <th></th>\n",
       "      <th>Time</th>\n",
       "      <th>V1</th>\n",
       "      <th>V2</th>\n",
       "      <th>V3</th>\n",
       "      <th>V4</th>\n",
       "      <th>V5</th>\n",
       "      <th>V6</th>\n",
       "      <th>V7</th>\n",
       "      <th>V8</th>\n",
       "      <th>V9</th>\n",
       "      <th>...</th>\n",
       "      <th>V21</th>\n",
       "      <th>V22</th>\n",
       "      <th>V23</th>\n",
       "      <th>V24</th>\n",
       "      <th>V25</th>\n",
       "      <th>V26</th>\n",
       "      <th>V27</th>\n",
       "      <th>V28</th>\n",
       "      <th>Amount</th>\n",
       "      <th>Class</th>\n",
       "    </tr>\n",
       "  </thead>\n",
       "  <tbody>\n",
       "    <tr>\n",
       "      <th>0</th>\n",
       "      <td>0.0</td>\n",
       "      <td>-1.359807</td>\n",
       "      <td>-0.072781</td>\n",
       "      <td>2.536347</td>\n",
       "      <td>1.378155</td>\n",
       "      <td>-0.338321</td>\n",
       "      <td>0.462388</td>\n",
       "      <td>0.239599</td>\n",
       "      <td>0.098698</td>\n",
       "      <td>0.363787</td>\n",
       "      <td>...</td>\n",
       "      <td>-0.018307</td>\n",
       "      <td>0.277838</td>\n",
       "      <td>-0.110474</td>\n",
       "      <td>0.066928</td>\n",
       "      <td>0.128539</td>\n",
       "      <td>-0.189115</td>\n",
       "      <td>0.133558</td>\n",
       "      <td>-0.021053</td>\n",
       "      <td>149.62</td>\n",
       "      <td>0</td>\n",
       "    </tr>\n",
       "    <tr>\n",
       "      <th>1</th>\n",
       "      <td>0.0</td>\n",
       "      <td>1.191857</td>\n",
       "      <td>0.266151</td>\n",
       "      <td>0.166480</td>\n",
       "      <td>0.448154</td>\n",
       "      <td>0.060018</td>\n",
       "      <td>-0.082361</td>\n",
       "      <td>-0.078803</td>\n",
       "      <td>0.085102</td>\n",
       "      <td>-0.255425</td>\n",
       "      <td>...</td>\n",
       "      <td>-0.225775</td>\n",
       "      <td>-0.638672</td>\n",
       "      <td>0.101288</td>\n",
       "      <td>-0.339846</td>\n",
       "      <td>0.167170</td>\n",
       "      <td>0.125895</td>\n",
       "      <td>-0.008983</td>\n",
       "      <td>0.014724</td>\n",
       "      <td>2.69</td>\n",
       "      <td>0</td>\n",
       "    </tr>\n",
       "    <tr>\n",
       "      <th>2</th>\n",
       "      <td>1.0</td>\n",
       "      <td>-1.358354</td>\n",
       "      <td>-1.340163</td>\n",
       "      <td>1.773209</td>\n",
       "      <td>0.379780</td>\n",
       "      <td>-0.503198</td>\n",
       "      <td>1.800499</td>\n",
       "      <td>0.791461</td>\n",
       "      <td>0.247676</td>\n",
       "      <td>-1.514654</td>\n",
       "      <td>...</td>\n",
       "      <td>0.247998</td>\n",
       "      <td>0.771679</td>\n",
       "      <td>0.909412</td>\n",
       "      <td>-0.689281</td>\n",
       "      <td>-0.327642</td>\n",
       "      <td>-0.139097</td>\n",
       "      <td>-0.055353</td>\n",
       "      <td>-0.059752</td>\n",
       "      <td>378.66</td>\n",
       "      <td>0</td>\n",
       "    </tr>\n",
       "    <tr>\n",
       "      <th>3</th>\n",
       "      <td>1.0</td>\n",
       "      <td>-0.966272</td>\n",
       "      <td>-0.185226</td>\n",
       "      <td>1.792993</td>\n",
       "      <td>-0.863291</td>\n",
       "      <td>-0.010309</td>\n",
       "      <td>1.247203</td>\n",
       "      <td>0.237609</td>\n",
       "      <td>0.377436</td>\n",
       "      <td>-1.387024</td>\n",
       "      <td>...</td>\n",
       "      <td>-0.108300</td>\n",
       "      <td>0.005274</td>\n",
       "      <td>-0.190321</td>\n",
       "      <td>-1.175575</td>\n",
       "      <td>0.647376</td>\n",
       "      <td>-0.221929</td>\n",
       "      <td>0.062723</td>\n",
       "      <td>0.061458</td>\n",
       "      <td>123.50</td>\n",
       "      <td>0</td>\n",
       "    </tr>\n",
       "    <tr>\n",
       "      <th>4</th>\n",
       "      <td>2.0</td>\n",
       "      <td>-1.158233</td>\n",
       "      <td>0.877737</td>\n",
       "      <td>1.548718</td>\n",
       "      <td>0.403034</td>\n",
       "      <td>-0.407193</td>\n",
       "      <td>0.095921</td>\n",
       "      <td>0.592941</td>\n",
       "      <td>-0.270533</td>\n",
       "      <td>0.817739</td>\n",
       "      <td>...</td>\n",
       "      <td>-0.009431</td>\n",
       "      <td>0.798278</td>\n",
       "      <td>-0.137458</td>\n",
       "      <td>0.141267</td>\n",
       "      <td>-0.206010</td>\n",
       "      <td>0.502292</td>\n",
       "      <td>0.219422</td>\n",
       "      <td>0.215153</td>\n",
       "      <td>69.99</td>\n",
       "      <td>0</td>\n",
       "    </tr>\n",
       "  </tbody>\n",
       "</table>\n",
       "<p>5 rows × 31 columns</p>\n",
       "</div>"
      ],
      "text/plain": [
       "   Time        V1        V2        V3        V4        V5        V6        V7  \\\n",
       "0   0.0 -1.359807 -0.072781  2.536347  1.378155 -0.338321  0.462388  0.239599   \n",
       "1   0.0  1.191857  0.266151  0.166480  0.448154  0.060018 -0.082361 -0.078803   \n",
       "2   1.0 -1.358354 -1.340163  1.773209  0.379780 -0.503198  1.800499  0.791461   \n",
       "3   1.0 -0.966272 -0.185226  1.792993 -0.863291 -0.010309  1.247203  0.237609   \n",
       "4   2.0 -1.158233  0.877737  1.548718  0.403034 -0.407193  0.095921  0.592941   \n",
       "\n",
       "         V8        V9  ...       V21       V22       V23       V24       V25  \\\n",
       "0  0.098698  0.363787  ... -0.018307  0.277838 -0.110474  0.066928  0.128539   \n",
       "1  0.085102 -0.255425  ... -0.225775 -0.638672  0.101288 -0.339846  0.167170   \n",
       "2  0.247676 -1.514654  ...  0.247998  0.771679  0.909412 -0.689281 -0.327642   \n",
       "3  0.377436 -1.387024  ... -0.108300  0.005274 -0.190321 -1.175575  0.647376   \n",
       "4 -0.270533  0.817739  ... -0.009431  0.798278 -0.137458  0.141267 -0.206010   \n",
       "\n",
       "        V26       V27       V28  Amount  Class  \n",
       "0 -0.189115  0.133558 -0.021053  149.62      0  \n",
       "1  0.125895 -0.008983  0.014724    2.69      0  \n",
       "2 -0.139097 -0.055353 -0.059752  378.66      0  \n",
       "3 -0.221929  0.062723  0.061458  123.50      0  \n",
       "4  0.502292  0.219422  0.215153   69.99      0  \n",
       "\n",
       "[5 rows x 31 columns]"
      ]
     },
     "execution_count": 28,
     "metadata": {},
     "output_type": "execute_result"
    }
   ],
   "source": [
    "df_pca = pd.read_csv('creditcard1.csv')\n",
    "df_pca.head()"
   ]
  },
  {
   "cell_type": "code",
   "execution_count": 31,
   "id": "8d1d8751-c11a-477e-adff-2e1d4248e6b0",
   "metadata": {},
   "outputs": [
    {
     "data": {
      "text/html": [
       "<div>\n",
       "<style scoped>\n",
       "    .dataframe tbody tr th:only-of-type {\n",
       "        vertical-align: middle;\n",
       "    }\n",
       "\n",
       "    .dataframe tbody tr th {\n",
       "        vertical-align: top;\n",
       "    }\n",
       "\n",
       "    .dataframe thead th {\n",
       "        text-align: right;\n",
       "    }\n",
       "</style>\n",
       "<table border=\"1\" class=\"dataframe\">\n",
       "  <thead>\n",
       "    <tr style=\"text-align: right;\">\n",
       "      <th></th>\n",
       "      <th>principal component 1</th>\n",
       "      <th>principal component 2</th>\n",
       "    </tr>\n",
       "  </thead>\n",
       "  <tbody>\n",
       "    <tr>\n",
       "      <th>0</th>\n",
       "      <td>0.422793</td>\n",
       "      <td>-2.488208</td>\n",
       "    </tr>\n",
       "    <tr>\n",
       "      <th>1</th>\n",
       "      <td>-0.390079</td>\n",
       "      <td>-2.108446</td>\n",
       "    </tr>\n",
       "    <tr>\n",
       "      <th>2</th>\n",
       "      <td>1.868886</td>\n",
       "      <td>-2.513924</td>\n",
       "    </tr>\n",
       "    <tr>\n",
       "      <th>3</th>\n",
       "      <td>0.303895</td>\n",
       "      <td>-1.794899</td>\n",
       "    </tr>\n",
       "    <tr>\n",
       "      <th>4</th>\n",
       "      <td>-0.011846</td>\n",
       "      <td>-1.482221</td>\n",
       "    </tr>\n",
       "    <tr>\n",
       "      <th>...</th>\n",
       "      <td>...</td>\n",
       "      <td>...</td>\n",
       "    </tr>\n",
       "    <tr>\n",
       "      <th>284802</th>\n",
       "      <td>-1.515322</td>\n",
       "      <td>1.954080</td>\n",
       "    </tr>\n",
       "    <tr>\n",
       "      <th>284803</th>\n",
       "      <td>-0.376970</td>\n",
       "      <td>0.808666</td>\n",
       "    </tr>\n",
       "    <tr>\n",
       "      <th>284804</th>\n",
       "      <td>-0.205202</td>\n",
       "      <td>2.060441</td>\n",
       "    </tr>\n",
       "    <tr>\n",
       "      <th>284805</th>\n",
       "      <td>-0.463997</td>\n",
       "      <td>1.284536</td>\n",
       "    </tr>\n",
       "    <tr>\n",
       "      <th>284806</th>\n",
       "      <td>0.772190</td>\n",
       "      <td>1.925051</td>\n",
       "    </tr>\n",
       "  </tbody>\n",
       "</table>\n",
       "<p>284807 rows × 2 columns</p>\n",
       "</div>"
      ],
      "text/plain": [
       "        principal component 1  principal component 2\n",
       "0                    0.422793              -2.488208\n",
       "1                   -0.390079              -2.108446\n",
       "2                    1.868886              -2.513924\n",
       "3                    0.303895              -1.794899\n",
       "4                   -0.011846              -1.482221\n",
       "...                       ...                    ...\n",
       "284802              -1.515322               1.954080\n",
       "284803              -0.376970               0.808666\n",
       "284804              -0.205202               2.060441\n",
       "284805              -0.463997               1.284536\n",
       "284806               0.772190               1.925051\n",
       "\n",
       "[284807 rows x 2 columns]"
      ]
     },
     "execution_count": 31,
     "metadata": {},
     "output_type": "execute_result"
    }
   ],
   "source": [
    "# Extract features \n",
    "features = df_pca.drop(['Class'], axis=1)\n",
    "\n",
    "# Initialize a StandardScaler object to standardize the features\n",
    "scaler = StandardScaler()\n",
    "\n",
    "# Standardize the features \n",
    "features_scaled = scaler.fit_transform(features)\n",
    "\n",
    "# Initialize a PCA (Principal Component Analysis) object to perform dimensionality reduction\n",
    "pca = PCA(n_components=2)\n",
    "\n",
    "# Apply PCA to reduce the dimensionality of the standardized features to 2 principal components\n",
    "principalComponents = pca.fit_transform(features_scaled)\n",
    "\n",
    "# Create a DataFrame to store the principal components \n",
    "principalDf = pd.DataFrame(data=principalComponents, columns=['principal component 1', 'principal component 2'])\n",
    "\n",
    "principalDf\n"
   ]
  },
  {
   "cell_type": "code",
   "execution_count": 32,
   "id": "32ae204e",
   "metadata": {},
   "outputs": [
    {
     "data": {
      "image/png": "[encoded data removed]",
      "text/plain": [
       "<Figure size 576x432 with 1 Axes>"
      ]
     },
     "metadata": {
      "needs_background": "light"
     },
     "output_type": "display_data"
    }
   ],
   "source": [
    "plt.figure(figsize=(8,6))\n",
    "plt.scatter(principalDf['principal component 1'], principalDf['principal component 2'], s=7)\n",
    "plt.xlabel('Principal Component 1')\n",
    "plt.ylabel('Principal Component 2')\n",
    "plt.title('PCA of Dataset')\n",
    "plt.show()"
   ]
  },
  {
   "cell_type": "code",
   "execution_count": 33,
   "id": "3239edc1-d5b6-479d-ac9b-08b396492a3b",
   "metadata": {},
   "outputs": [
    {
     "name": "stdout",
     "output_type": "stream",
     "text": [
      "Number of potentially fraudulent outliers: 12953 out of 284807\n"
     ]
    }
   ],
   "source": [
    "# Calculate the mean and standard deviation of the principal component 1\n",
    "mean_pc1 = np.mean(principalDf['principal component 1'])\n",
    "std_pc1 = np.std(principalDf['principal component 1'])\n",
    "\n",
    "# Calculate the mean and standard deviation of the principal component 2\n",
    "mean_pc2 = np.mean(principalDf['principal component 2'])\n",
    "std_pc2 = np.std(principalDf['principal component 2'])\n",
    "\n",
    "# Set the threshold for outlier detection (usually a value such as 2 or 3)\n",
    "threshold = 2\n",
    "\n",
    "# Identify outliers for principal component 1 using the threshold\n",
    "outliers_pc1 = principalDf[np.abs(principalDf['principal component 1'] - mean_pc1) > threshold * std_pc1]\n",
    "\n",
    "# Identify outliers for principal component 2 using the threshold\n",
    "outliers_pc2 = principalDf[np.abs(principalDf['principal component 2'] - mean_pc2) > threshold * std_pc2]\n",
    "\n",
    "# Concatenate the outliers from both principal components, drop duplicates, and reset the index\n",
    "outliers = pd.concat([outliers_pc1, outliers_pc2]).drop_duplicates().reset_index(drop=True)\n",
    "\n",
    "# Get the number of outliers detected\n",
    "num_outliers = outliers.shape[0]\n",
    "\n",
    "# Get the total number of data points\n",
    "total_points = principalDf.shape[0]\n",
    "\n",
    "print(f'Number of potentially fraudulent outliers: {num_outliers} out of {total_points}')\n"
   ]
  },
  {
   "cell_type": "code",
   "execution_count": 34,
   "id": "56916ee5-4285-4cc5-b1ff-3ba0aef757b4",
   "metadata": {},
   "outputs": [],
   "source": [
    "# Select the rows from the original features DataFrame (features)\n",
    "outlier_features = features.loc[outliers.index]\n",
    "\n",
    "# Standardize the outlier features using the same scaler previously fitted on the entire dataset\n",
    "outliers_scaled = scaler.transform(outlier_features)\n",
    "\n",
    "# Initialize a new PCA object with 2 principal components\n",
    "pca = PCA(n_components=2)\n",
    "\n",
    "# Apply PCA \n",
    "principalComponents_outliers = pca.fit_transform(outliers_scaled)\n",
    "\n",
    "# Create a new DataFrame 'principalDf_outliers' to store the 2 principal components of the outliers\n",
    "principalDf_outliers = pd.DataFrame(data=principalComponents_outliers, \n",
    "                                    columns=['principal component 1', 'principal component 2'])\n"
   ]
  },
  {
   "cell_type": "code",
   "execution_count": 35,
   "id": "7525e290",
   "metadata": {},
   "outputs": [
    {
     "data": {
      "image/png": "[encoded data removed]",
      "text/plain": [
       "<Figure size 576x432 with 1 Axes>"
      ]
     },
     "metadata": {
      "needs_background": "light"
     },
     "output_type": "display_data"
    }
   ],
   "source": [
    "plt.figure(figsize=(8,6))\n",
    "plt.scatter(principalDf_outliers['principal component 2'], principalDf_outliers['principal component 1'], \n",
    "            color='orange', label='Outliers PCA', s=7)\n",
    "\n",
    "plt.xlabel('Principal Component 2')\n",
    "plt.ylabel('Principal Component 1')\n",
    "plt.title('PCA of Dataset (Second Round)')\n",
    "plt.legend()\n",
    "plt.show()"
   ]
  },
  {
   "cell_type": "code",
   "execution_count": 36,
   "id": "7192738e",
   "metadata": {},
   "outputs": [
    {
     "name": "stdout",
     "output_type": "stream",
     "text": [
      "Number of potentially fraudulent outliers after further analysis: 4061 out of 12953 and 284807 total\n"
     ]
    }
   ],
   "source": [
    "# Calculate the mean and standard deviation of the principal component 1 for the outliers\n",
    "mean_pc1_outliers = np.mean(principalDf_outliers['principal component 1'])\n",
    "std_pc1_outliers = np.std(principalDf_outliers['principal component 1'])\n",
    "\n",
    "# Calculate the mean and standard deviation of the principal component 2 for the outliers\n",
    "mean_pc2_outliers = np.mean(principalDf_outliers['principal component 2'])\n",
    "std_pc2_outliers = np.std(principalDf_outliers['principal component 2'])\n",
    "\n",
    "threshold = 1\n",
    "\n",
    "# Identify further outliers\n",
    "further_outliers_pc1 = principalDf_outliers[np.abs(principalDf_outliers['principal component 1'] - mean_pc1_outliers) > threshold * std_pc1_outliers]\n",
    "further_outliers_pc2 = principalDf_outliers[np.abs(principalDf_outliers['principal component 2'] - mean_pc2_outliers) > threshold * std_pc2_outliers]\n",
    "\n",
    "# Concatenate \n",
    "further_outliers = pd.concat([further_outliers_pc1, further_outliers_pc2]).drop_duplicates().reset_index(drop=True)\n",
    "\n",
    "# Get the number of further outliers detected\n",
    "num_further_outliers = further_outliers.shape[0]\n",
    "\n",
    "# Get the total number of points in the outlier dataset\n",
    "total_points_in_outliers = principalDf_outliers.shape[0]\n",
    "\n",
    "print(f'Number of potentially fraudulent outliers after further analysis: {num_further_outliers} out of {total_points_in_outliers} and {total_points} total')\n"
   ]
  },
  {
   "cell_type": "code",
   "execution_count": 37,
   "id": "59ed2b5f",
   "metadata": {},
   "outputs": [
    {
     "name": "stdout",
     "output_type": "stream",
     "text": [
      "Number of extreme outliers after further analysis: 587 out of 4061\n"
     ]
    }
   ],
   "source": [
    "# Calculate the mean and standard deviation of the principal component\n",
    "mean_pc1_further = np.mean(further_outliers['principal component 1'])\n",
    "std_pc1_further = np.std(further_outliers['principal component 1'])\n",
    "mean_pc2_further = np.mean(further_outliers['principal component 2'])\n",
    "std_pc2_further = np.std(further_outliers['principal component 2'])\n",
    "\n",
    "threshold_further = .6  \n",
    "\n",
    "# Identify extreme outliers\n",
    "extreme_outliers_pc1 = further_outliers[np.abs(further_outliers['principal component 1'] - mean_pc1_further) > threshold_further * std_pc1_further]\n",
    "extreme_outliers_pc2 = further_outliers[np.abs(further_outliers['principal component 2'] - mean_pc2_further) > threshold_further * std_pc2_further]\n",
    "\n",
    "extreme_outliers = pd.concat([extreme_outliers_pc1, extreme_outliers_pc2]).drop_duplicates().reset_index(drop=True)\n",
    "\n",
    "num_extreme_outliers = extreme_outliers.shape[0]\n",
    "total_points_in_further_outliers = further_outliers.shape[0]\n",
    "\n",
    "print(f'Number of extreme outliers after further analysis: {num_extreme_outliers} out of {total_points_in_further_outliers}')"
   ]
  },
  {
   "cell_type": "code",
   "execution_count": 38,
   "id": "2400e992",
   "metadata": {},
   "outputs": [
    {
     "data": {
      "image/png": "[encoded data removed]",
      "text/plain": [
       "<Figure size 576x432 with 1 Axes>"
      ]
     },
     "metadata": {
      "needs_background": "light"
     },
     "output_type": "display_data"
    }
   ],
   "source": [
    "plt.figure(figsize=(8,6))\n",
    "plt.scatter(extreme_outliers['principal component 2'], extreme_outliers['principal component 1'], \n",
    "            color='red', label='Extreme Outliers PCA', s=10)  \n",
    "\n",
    "plt.xlabel('Principal Component 2')\n",
    "plt.ylabel('Principal Component 1')\n",
    "plt.title('PCA of Extreme Outliers (Third Round)')\n",
    "plt.legend()\n",
    "plt.show()"
   ]
  },
  {
   "cell_type": "markdown",
   "id": "34fb500f",
   "metadata": {},
   "source": [
    "The credit cards that are screened out during the second round (around 4,000) will be shut down while the cardholder is notified. The credit cards that are screened out during the third round (606) will be even more urgently shut down and notified. In scenarios as serious as credit card transactions I believe that it is best to air on the side of caution. By stopping and notifying cardholders in both rounds we ensure that there is a very small probability that fraudulent cases get through. I know we are airing on the side of caution because there are only around 490 frauds out of 284,807 transactions. This gives us an accuracy rating in the third round of around 81.1%. \n"
   ]
  },
  {
   "cell_type": "markdown",
   "id": "4ba51382-57c4-4e41-965f-9b413f79dad2",
   "metadata": {},
   "source": [
    "## Discussion & Analysis"
   ]
  },
  {
   "cell_type": "markdown",
   "id": "52fbb470",
   "metadata": {},
   "source": [
    "Each of the four machine learning models employed in the project has its strengths and weaknesses. For example, Logistic Regression is simple to implement and produce a good performance although it is not the best. Naive Bayes Classifier requires the understading of math concepts and concise code implementations. PCA can be useful for dimensionality reduction, but it may discard important information. Random Forest demonstrated high accuracy but may lack interpretability due to its ensemble nature.\n",
    "\n",
    "The challenges we encountered is in the data processing and developing computational model. Model’s performance requires high data quality and careful data processing. Moreover, credit card fraud is a relatively rare event, posing difficulty in developing model and algorithms to detect the credit card fraud.\n"
   ]
  },
  {
   "cell_type": "markdown",
   "id": "a1cc8d07-1abd-493e-b826-976e5894b58d",
   "metadata": {},
   "source": [
    "## Conclusion"
   ]
  },
  {
   "cell_type": "markdown",
   "id": "ace7e5dc",
   "metadata": {},
   "source": [
    "Credit fraud poses a significant threat to both consumers and financial institutions, with a high number of reported cases annually. In this project, we aimed to identify the most effective machine learning model for detecting fraudulent transactions. Leveraging libraries such as scikit-learn, statsmodels, seaborn, pandas, numpy, and matplotlib, we analyzed data collected through a collaboration between Worldline and ULB (Université Libre de Bruxelles). Four machine learning models were explored: Logistic Regression, Principal Component Analysis (PCA), Naive Bayes Classifier, and Random Forest."
   ]
  },
  {
   "cell_type": "markdown",
   "id": "106d4eb0",
   "metadata": {},
   "source": [
    "The best model for detecting fraud in Credit Transactions is the Random Forest Model. The random forest model has the strongest performance due to its high accuracy, robustness to overfitting, and ability to handle large and complex datasets, and it is the model we would recommend to banking instutions. Our study underscores the importance of employing machine-learning techniques for effective credit fraud detection, safeguarding consumers, preserving trust in financial systems."
   ]
  },
  {
   "cell_type": "markdown",
   "id": "a97d77f3-7ff5-47e5-9d7a-d14f9e82f808",
   "metadata": {},
   "source": [
    "## Reference"
   ]
  },
  {
   "cell_type": "markdown",
   "id": "278de168",
   "metadata": {},
   "source": [
    "1. Experian, \"What Is Credit Fraud?,\" Experian, Sep. 30, 2020. [Online]. Available: https://www.experian.com/blogs/ask-experian/credit-education/preventing-fraud/what-is-credit-fraud/\n",
    "2. DataVisor. (n.d.). Credit Card Fraud: Everything You Need to Know. Retrieved from https://www.datavisor.com/wiki/credit-card-fraud/#:~:text=One%20of%20the%20most%20common,most%20common%20forms%20of%20payment\n",
    "3. MLG - ULB and Worldline, \"Credit Card Fraud Detection\" [Dataset], Kaggle, Accessed September 2013. [Online]. Available: https://www.kaggle.com/datasets/mlg-ulb/creditcardfraud\n",
    "4. Marcelo Cotinda. (2020, March). Creditcard Fraud - Logistic Regression example. Retrieved from https://www.kaggle.com/code/marcelotc/creditcard-fraud-logistic-regression-example."
   ]
  }
 ],
 "metadata": {
  "kernelspec": {
   "display_name": "Python 3.11 (default)",
   "language": "python",
   "name": "python3"
  },
  "language_info": {
   "codemirror_mode": {
    "name": "ipython",
    "version": 3
   },
   "file_extension": ".py",
   "mimetype": "text/x-python",
   "name": "python",
   "nbconvert_exporter": "python",
   "pygments_lexer": "ipython3",
   "version": "3.11.6"
  }
 },
 "nbformat": 4,
 "nbformat_minor": 5
}
